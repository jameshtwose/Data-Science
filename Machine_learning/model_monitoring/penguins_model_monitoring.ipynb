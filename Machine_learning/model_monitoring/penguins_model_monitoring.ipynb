{
 "cells": [
  {
   "cell_type": "markdown",
   "metadata": {},
   "source": [
    "### Looking into using a model monitoring package (evidently) to look at the `penguins` dataset from `seaborn`"
   ]
  },
  {
   "cell_type": "code",
   "execution_count": 1,
   "metadata": {},
   "outputs": [],
   "source": [
    "import pandas as pd\n",
    "import numpy as np\n",
    "import seaborn as sns\n",
    "from jmspack.utils import JmsColors\n",
    "\n",
    "from evidently.dashboard import Dashboard\n",
    "from evidently.pipeline.column_mapping import ColumnMapping\n",
    "from evidently.dashboard.tabs import (DataDriftTab,\n",
    "                                        DataQualityTab,\n",
    "                                        ProbClassificationPerformanceTab)\n",
    "from evidently.options import DataDriftOptions\n",
    "from evidently.options import ColorOptions\n",
    "from sklearn.ensemble import RandomForestClassifier"
   ]
  },
  {
   "cell_type": "code",
   "execution_count": 2,
   "metadata": {},
   "outputs": [
    {
     "data": {
      "text/html": [
       "<div>\n",
       "<style scoped>\n",
       "    .dataframe tbody tr th:only-of-type {\n",
       "        vertical-align: middle;\n",
       "    }\n",
       "\n",
       "    .dataframe tbody tr th {\n",
       "        vertical-align: top;\n",
       "    }\n",
       "\n",
       "    .dataframe thead th {\n",
       "        text-align: right;\n",
       "    }\n",
       "</style>\n",
       "<table border=\"1\" class=\"dataframe\">\n",
       "  <thead>\n",
       "    <tr style=\"text-align: right;\">\n",
       "      <th></th>\n",
       "      <th>species</th>\n",
       "      <th>island</th>\n",
       "      <th>bill_length_mm</th>\n",
       "      <th>bill_depth_mm</th>\n",
       "      <th>flipper_length_mm</th>\n",
       "      <th>body_mass_g</th>\n",
       "      <th>sex</th>\n",
       "    </tr>\n",
       "  </thead>\n",
       "  <tbody>\n",
       "    <tr>\n",
       "      <th>0</th>\n",
       "      <td>Adelie</td>\n",
       "      <td>Torgersen</td>\n",
       "      <td>39.1</td>\n",
       "      <td>18.7</td>\n",
       "      <td>181.0</td>\n",
       "      <td>3750.0</td>\n",
       "      <td>Male</td>\n",
       "    </tr>\n",
       "    <tr>\n",
       "      <th>1</th>\n",
       "      <td>Adelie</td>\n",
       "      <td>Torgersen</td>\n",
       "      <td>39.5</td>\n",
       "      <td>17.4</td>\n",
       "      <td>186.0</td>\n",
       "      <td>3800.0</td>\n",
       "      <td>Female</td>\n",
       "    </tr>\n",
       "    <tr>\n",
       "      <th>2</th>\n",
       "      <td>Adelie</td>\n",
       "      <td>Torgersen</td>\n",
       "      <td>40.3</td>\n",
       "      <td>18.0</td>\n",
       "      <td>195.0</td>\n",
       "      <td>3250.0</td>\n",
       "      <td>Female</td>\n",
       "    </tr>\n",
       "    <tr>\n",
       "      <th>4</th>\n",
       "      <td>Adelie</td>\n",
       "      <td>Torgersen</td>\n",
       "      <td>36.7</td>\n",
       "      <td>19.3</td>\n",
       "      <td>193.0</td>\n",
       "      <td>3450.0</td>\n",
       "      <td>Female</td>\n",
       "    </tr>\n",
       "    <tr>\n",
       "      <th>5</th>\n",
       "      <td>Adelie</td>\n",
       "      <td>Torgersen</td>\n",
       "      <td>39.3</td>\n",
       "      <td>20.6</td>\n",
       "      <td>190.0</td>\n",
       "      <td>3650.0</td>\n",
       "      <td>Male</td>\n",
       "    </tr>\n",
       "  </tbody>\n",
       "</table>\n",
       "</div>"
      ],
      "text/plain": [
       "  species     island  bill_length_mm  bill_depth_mm  flipper_length_mm  \\\n",
       "0  Adelie  Torgersen            39.1           18.7              181.0   \n",
       "1  Adelie  Torgersen            39.5           17.4              186.0   \n",
       "2  Adelie  Torgersen            40.3           18.0              195.0   \n",
       "4  Adelie  Torgersen            36.7           19.3              193.0   \n",
       "5  Adelie  Torgersen            39.3           20.6              190.0   \n",
       "\n",
       "   body_mass_g     sex  \n",
       "0       3750.0    Male  \n",
       "1       3800.0  Female  \n",
       "2       3250.0  Female  \n",
       "4       3450.0  Female  \n",
       "5       3650.0    Male  "
      ]
     },
     "execution_count": 2,
     "metadata": {},
     "output_type": "execute_result"
    }
   ],
   "source": [
    "df = sns.load_dataset(\"penguins\").dropna()\n",
    "df.head()"
   ]
  },
  {
   "cell_type": "code",
   "execution_count": 3,
   "metadata": {},
   "outputs": [
    {
     "data": {
      "text/plain": [
       "(['Male', 'Female'],\n",
       " ['bill_length_mm', 'bill_depth_mm', 'flipper_length_mm', 'body_mass_g'],\n",
       " ['species', 'island'])"
      ]
     },
     "execution_count": 3,
     "metadata": {},
     "output_type": "execute_result"
    }
   ],
   "source": [
    "target=\"sex\"\n",
    "target_names=df[target].unique().tolist()\n",
    "numerical_feature_names=df.drop(target, axis=1).select_dtypes(float).columns.tolist()\n",
    "categorical_feature_names=df.drop(numerical_feature_names + [target], axis=1).columns.tolist()\n",
    "target_names,numerical_feature_names,categorical_feature_names"
   ]
  },
  {
   "cell_type": "code",
   "execution_count": 4,
   "metadata": {},
   "outputs": [],
   "source": [
    "df[categorical_feature_names] = df[categorical_feature_names].astype(\"category\").apply(lambda s: s.cat.codes)"
   ]
  },
  {
   "cell_type": "code",
   "execution_count": 5,
   "metadata": {},
   "outputs": [
    {
     "data": {
      "text/plain": [
       "((266, 6), (266,), (67, 6), (67,))"
      ]
     },
     "execution_count": 5,
     "metadata": {},
     "output_type": "execute_result"
    }
   ],
   "source": [
    "X_train = df[numerical_feature_names + categorical_feature_names].sample(frac=0.8)\n",
    "y_train = df.loc[X_train.index, target]\n",
    "X_test = df[numerical_feature_names + categorical_feature_names].drop(X_train.index.tolist())\n",
    "y_test = df.loc[X_test.index, target]\n",
    "\n",
    "X_train.shape, y_train.shape, X_test.shape, y_test.shape"
   ]
  },
  {
   "cell_type": "code",
   "execution_count": 6,
   "metadata": {},
   "outputs": [],
   "source": [
    "model = RandomForestClassifier(random_state=42)\n",
    "_ = model.fit(X=X_train, y=y_train)"
   ]
  },
  {
   "cell_type": "code",
   "execution_count": 7,
   "metadata": {},
   "outputs": [],
   "source": [
    "pred_out, pred_in = target_names \n",
    "\n",
    "# Create probabilities dfs for reference and test dfs and merge with original dfs i.e,\n",
    "# Outdoors | Indoors | Prediction\n",
    "probas_reference = (pd.DataFrame(data = model.predict_proba(X_train), \n",
    "                                    columns = target_names)\n",
    "                        .assign(Prediction = lambda x: np.where(x[pred_in] > x[pred_out], pred_in, pred_out))\n",
    "                            )\n",
    "merged_reference = pd.concat([X_train.reset_index(drop=True), probas_reference.reset_index(drop=True)], axis=1)\n",
    "\n",
    "probas_test = (pd.DataFrame(data = model.predict_proba(X_test), \n",
    "                                    columns = target_names)\n",
    "                        .assign(Prediction = lambda x: np.where(x[pred_in] > x[pred_out], pred_in, pred_out))\n",
    "                            )\n",
    "merged_test = pd.concat([X_test.reset_index(drop=True), probas_reference.reset_index(drop=True)], axis=1)"
   ]
  },
  {
   "cell_type": "code",
   "execution_count": 8,
   "metadata": {},
   "outputs": [],
   "source": [
    "# Define the color scheme that is going to be used in the Reports\n",
    "color_scheme = ColorOptions(primary_color = JmsColors.PURPLE,\n",
    "                            secondary_color = JmsColors.YELLOW,\n",
    "                            fill_color =  JmsColors.GREENYELLOW, \n",
    "                            zero_line_color = JmsColors.DARKGREY,\n",
    "                            color_sequence = JmsColors.to_list()\n",
    "                            )\n",
    "\n",
    "# Define the column mapping, essential step to generate the reports.\n",
    "indoor_outdoor_col_map = ColumnMapping(prediction = target_names,\n",
    "                                        target = \"Prediction\",\n",
    "                                        target_names = target_names,\n",
    "                                        numerical_features = numerical_feature_names,\n",
    "                                        categorical_features = categorical_feature_names,\n",
    "                                        pos_label = target_names[1])"
   ]
  },
  {
   "cell_type": "code",
   "execution_count": 9,
   "metadata": {},
   "outputs": [],
   "source": [
    "# Other configurations\n",
    "\n",
    "bin_size = 25\n",
    "# specify a bin size of 25 for the columns that are only included in the model\n",
    "# NOT the columns that also evidently produce (target columns)\n",
    "specs_dict = dict.fromkeys(numerical_feature_names, bin_size)\n",
    "options = DataDriftOptions(nbinsx=specs_dict, drift_share=0.6)"
   ]
  },
  {
   "cell_type": "code",
   "execution_count": 10,
   "metadata": {},
   "outputs": [],
   "source": [
    "# Initiate the Evidently Dashboards\n",
    "summary_dashboard = Dashboard(tabs=[DataDriftTab(include_widgets=['Data Drift']), \n",
    "                                    DataQualityTab(include_widgets=['Data Summary', 'Features']),\n",
    "                                    ProbClassificationPerformanceTab(include_widgets=['Reference: Class Representation',\n",
    "                                                                                        'Current: Class Representation',\n",
    "                                                                                        'Reference: Class Separation Quality',\n",
    "                                                                                        'Current: Class Separation Quality'])],\n",
    "                    options=[color_scheme, options])\n",
    "\n",
    "# Run and save all calculations\n",
    "summary_dashboard.calculate(reference_data = merged_reference, \n",
    "                            current_data = merged_test,\n",
    "                            column_mapping = indoor_outdoor_col_map)"
   ]
  },
  {
   "cell_type": "code",
   "execution_count": 11,
   "metadata": {},
   "outputs": [],
   "source": [
    "filename = \"penguins_data_drift_report_evidently.html\"\n",
    "export_data=False\n",
    "if export_data:\n",
    "    summary_dashboard.save(filename)"
   ]
  }
 ],
 "metadata": {
  "kernelspec": {
   "display_name": "Python 3.10.4 ('ds_env')",
   "language": "python",
   "name": "python3"
  },
  "language_info": {
   "codemirror_mode": {
    "name": "ipython",
    "version": 3
   },
   "file_extension": ".py",
   "mimetype": "text/x-python",
   "name": "python",
   "nbconvert_exporter": "python",
   "pygments_lexer": "ipython3",
   "version": "3.10.4"
  },
  "orig_nbformat": 4,
  "vscode": {
   "interpreter": {
    "hash": "179735f5087b26bd07935103d9bc58d14ac417e85d5e87ba282c2f2ba7fe1bd1"
   }
  }
 },
 "nbformat": 4,
 "nbformat_minor": 2
}
