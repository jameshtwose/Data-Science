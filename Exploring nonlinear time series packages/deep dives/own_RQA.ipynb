{
 "cells": [
  {
   "cell_type": "markdown",
   "metadata": {},
   "source": [
    "# Creating my own RQA function using base python"
   ]
  },
  {
   "cell_type": "code",
   "execution_count": 1,
   "metadata": {},
   "outputs": [],
   "source": [
    "import pandas as pd\n",
    "import numpy as np\n",
    "from scipy.spatial import distance_matrix"
   ]
  },
  {
   "cell_type": "markdown",
   "metadata": {},
   "source": [
    "### Need to think how to get from a time series to a matrix e.g."
   ]
  },
  {
   "cell_type": "code",
   "execution_count": 2,
   "metadata": {},
   "outputs": [
    {
     "data": {
      "text/plain": [
       "[1, 2, 3]"
      ]
     },
     "execution_count": 2,
     "metadata": {},
     "output_type": "execute_result"
    }
   ],
   "source": [
    "ts = [1,2,3]\n",
    "ts"
   ]
  },
  {
   "cell_type": "code",
   "execution_count": 3,
   "metadata": {},
   "outputs": [
    {
     "data": {
      "text/plain": [
       "array([[1, 2, 3],\n",
       "       [2, 3, 1],\n",
       "       [3, 2, 1]])"
      ]
     },
     "execution_count": 3,
     "metadata": {},
     "output_type": "execute_result"
    }
   ],
   "source": [
    "ts_matrix = [[1,2,3],\n",
    "             [2,3,1],\n",
    "             [3,2,1]]\n",
    "np.asarray(ts_matrix)"
   ]
  },
  {
   "cell_type": "markdown",
   "metadata": {},
   "source": [
    "### Initialise a list of lists"
   ]
  },
  {
   "cell_type": "code",
   "execution_count": 4,
   "metadata": {},
   "outputs": [],
   "source": [
    "x = [[2,1,3],[0,1,1],[2,2,3]]"
   ]
  },
  {
   "cell_type": "markdown",
   "metadata": {},
   "source": [
    "### Convert the list of lists to an array"
   ]
  },
  {
   "cell_type": "code",
   "execution_count": 5,
   "metadata": {},
   "outputs": [
    {
     "data": {
      "text/plain": [
       "array([[2, 1, 3],\n",
       "       [0, 1, 1],\n",
       "       [2, 2, 3]])"
      ]
     },
     "execution_count": 5,
     "metadata": {},
     "output_type": "execute_result"
    }
   ],
   "source": [
    "x = np.asarray(x)\n",
    "x"
   ]
  },
  {
   "cell_type": "markdown",
   "metadata": {},
   "source": [
    "### Original function from scipy - source code can be found [here](https://github.com/scipy/scipy/blob/v1.3.0/scipy/spatial/kdtree.py#L936-L987)"
   ]
  },
  {
   "cell_type": "code",
   "execution_count": 6,
   "metadata": {},
   "outputs": [
    {
     "data": {
      "text/plain": [
       "array([[0.        , 2.82842712, 1.        ],\n",
       "       [2.82842712, 0.        , 3.        ],\n",
       "       [1.        , 3.        , 0.        ]])"
      ]
     },
     "execution_count": 6,
     "metadata": {},
     "output_type": "execute_result"
    }
   ],
   "source": [
    "# this is the original function from scipy to confirm our reconstruction is correct\n",
    "distance_matrix(x,x, p=2)"
   ]
  },
  {
   "cell_type": "markdown",
   "metadata": {},
   "source": [
    "### The Minkowski distance or Minkowski metric is a generalisation of multiple distance measures, this arises from the order:\n",
    "\n",
    "- λ = 1 is the Manhattan distance. Synonyms are L1-Norm, Taxicab or City-Block distance. For two vectors of ranked ordinal variables, the Manhattan distance is sometimes called Foot-ruler distance.\n",
    "- λ = 2 is the Euclidean distance. Synonyms are L2-Norm or Ruler distance. For two vectors of ranked ordinal variables, the Euclidean distance is sometimes called Spear-man distance.\n",
    "- λ = ∞ is the Chebyshev distance. Synonyms are Lmax-Norm or Chessboard distance."
   ]
  },
  {
   "cell_type": "markdown",
   "metadata": {},
   "source": [
    "<img src=\"Minkowski_distance_formula.png\">"
   ]
  },
  {
   "cell_type": "code",
   "execution_count": 7,
   "metadata": {},
   "outputs": [],
   "source": [
    "def minkowski_distance(x, y, p=2):\n",
    "    return np.sum(np.abs(y-x)**p, axis=-1)**(1./p)"
   ]
  },
  {
   "cell_type": "code",
   "execution_count": 8,
   "metadata": {},
   "outputs": [],
   "source": [
    "# def distance_matrix_jms(x, y, p=2):\n",
    "#     m, k = x.shape\n",
    "#     n, kk = y.shape\n",
    "    \n",
    "#     result = np.empty((m,n),dtype=float)\n",
    "#     if m < n:\n",
    "#         for i in range(m):\n",
    "#             result[i,:] = minkowski_distance(x[i],y,p)\n",
    "#     else:\n",
    "#         for j in range(n):\n",
    "#             result[:,j] = minkowski_distance(x,y[j],p)\n",
    "#         return result"
   ]
  },
  {
   "cell_type": "code",
   "execution_count": 9,
   "metadata": {},
   "outputs": [],
   "source": [
    "# simplest version, not sure what will happen if we try to add lags though :3\n",
    "def distance_matrix_jms(x, y, p=2):\n",
    "    m, k = x.shape\n",
    "    n, kk = y.shape\n",
    "    \n",
    "    result = np.empty((m,n),dtype=float)\n",
    "    for i in range(m):\n",
    "        result[i,:] = minkowski_distance(x[i],y,p)\n",
    "    return result"
   ]
  },
  {
   "cell_type": "markdown",
   "metadata": {},
   "source": [
    "### James version of the distance_matrix function - it currently only accepts numpy arrays"
   ]
  },
  {
   "cell_type": "code",
   "execution_count": 10,
   "metadata": {},
   "outputs": [
    {
     "data": {
      "text/plain": [
       "array([[0.        , 2.82842712, 1.        ],\n",
       "       [2.82842712, 0.        , 3.        ],\n",
       "       [1.        , 3.        , 0.        ]])"
      ]
     },
     "execution_count": 10,
     "metadata": {},
     "output_type": "execute_result"
    }
   ],
   "source": [
    "rm = distance_matrix_jms(x, x, p=2)\n",
    "rm"
   ]
  },
  {
   "cell_type": "markdown",
   "metadata": {},
   "source": [
    "### Remove the diagonal from the matrix - they will always be zero if it is auto - reccurrence"
   ]
  },
  {
   "cell_type": "code",
   "execution_count": 11,
   "metadata": {},
   "outputs": [],
   "source": [
    "def remove_diag(x):\n",
    "    x_no_diag = np.ndarray.flatten(x)\n",
    "    #print(x_no_diag)\n",
    "    x_no_diag = np.delete(x_no_diag, range(0, len(x_no_diag), len(x) + 1), 0)\n",
    "    #print(x_no_diag)\n",
    "    x_no_diag = x_no_diag.reshape(len(x), len(x) - 1)\n",
    "    #print(x_no_diag)\n",
    "    return x_no_diag"
   ]
  },
  {
   "cell_type": "code",
   "execution_count": 12,
   "metadata": {},
   "outputs": [
    {
     "data": {
      "text/plain": [
       "array([[2.82842712, 1.        ],\n",
       "       [2.82842712, 3.        ],\n",
       "       [1.        , 3.        ]])"
      ]
     },
     "execution_count": 12,
     "metadata": {},
     "output_type": "execute_result"
    }
   ],
   "source": [
    "rm_no_diag = remove_diag(rm)\n",
    "rm_no_diag"
   ]
  },
  {
   "cell_type": "markdown",
   "metadata": {},
   "source": [
    "### Threshold the matrix at a certain radius i.e. make any value below a certain number 0, and any number above 1"
   ]
  },
  {
   "cell_type": "code",
   "execution_count": 13,
   "metadata": {},
   "outputs": [
    {
     "data": {
      "text/plain": [
       "[[0, 1, 0, 0, 1, 0]]"
      ]
     },
     "execution_count": 13,
     "metadata": {},
     "output_type": "execute_result"
    }
   ],
   "source": [
    "threshold = 1.5\n",
    "recmat = rm_no_diag\n",
    "thresh_mat_all = []\n",
    "thresh_mat = []\n",
    "for i in recmat:\n",
    "    for j in range(len(i)):\n",
    "        if i[j] < threshold:\n",
    "            thresh_mat.append(1)\n",
    "        else:\n",
    "            thresh_mat.append(0)\n",
    "thresh_mat_all.append(thresh_mat)\n",
    "thresh_mat_all"
   ]
  },
  {
   "cell_type": "code",
   "execution_count": 14,
   "metadata": {},
   "outputs": [],
   "source": [
    "# create chunks function which returns n-chunks of a list\n",
    "def chunks(l, n):\n",
    "    n = max(1, n)\n",
    "    return (l[i:i+n] for i in range(0, len(l), n))"
   ]
  },
  {
   "cell_type": "code",
   "execution_count": 15,
   "metadata": {},
   "outputs": [],
   "source": [
    "# create flatten function to use when you have lists within lists\n",
    "flatten = lambda l: [item for sublist in l for item in sublist]"
   ]
  },
  {
   "cell_type": "code",
   "execution_count": 16,
   "metadata": {},
   "outputs": [
    {
     "data": {
      "text/plain": [
       "array([[0, 1],\n",
       "       [0, 0],\n",
       "       [1, 0]])"
      ]
     },
     "execution_count": 16,
     "metadata": {},
     "output_type": "execute_result"
    }
   ],
   "source": [
    "thresh_mat_arr = np.asarray(list(chunks(flatten(thresh_mat_all), 2)))\n",
    "thresh_mat_arr"
   ]
  },
  {
   "cell_type": "code",
   "execution_count": 17,
   "metadata": {},
   "outputs": [
    {
     "data": {
      "text/plain": [
       "2"
      ]
     },
     "execution_count": 17,
     "metadata": {},
     "output_type": "execute_result"
    }
   ],
   "source": [
    "# the amount of recurrent points in the distance matrix\n",
    "RP_N = np.sum(thresh_mat_arr)\n",
    "RP_N"
   ]
  },
  {
   "cell_type": "code",
   "execution_count": 18,
   "metadata": {},
   "outputs": [
    {
     "data": {
      "text/plain": [
       "0.3333333333333333"
      ]
     },
     "execution_count": 18,
     "metadata": {},
     "output_type": "execute_result"
    }
   ],
   "source": [
    "# the recurrence rate in the distance matrix\n",
    "RR = RP_N/len(flatten(thresh_mat_arr))\n",
    "RR"
   ]
  },
  {
   "cell_type": "code",
   "execution_count": 19,
   "metadata": {},
   "outputs": [],
   "source": [
    "# Casnet (R) version of the RQA measures - RR, Determinism, and Laminarity\n",
    "#   #Total nr. recurrent points\n",
    "#   RP_N <- Matrix::nnzero(RM, na.counted = FALSE)\n",
    "\n",
    "#   minDiag <- 0\n",
    "#   if(Matrix::isSymmetric(Matrix::unname(RM))){\n",
    "#     if(all(Matrix::diag(RM)==1)){\n",
    "#       minDiag <- length(Matrix::diag(RM))\n",
    "#       }\n",
    "#   }\n",
    "\n",
    "#   RP_N <- RP_N-minDiag\n",
    "\n",
    "#   #Proportion recurrence / Recurrence Rate\n",
    "#   RR <- RP_N/recmatsize\n",
    "\n",
    "#   if(length(RR)==0){RR<-0}\n",
    "\n",
    "#   if(RR==1){\n",
    "#     warning(\"Everything is recurring!\\nReturning empty vector\")\n",
    "#     return(crqa_rp_empty())\n",
    "#   }\n",
    "\n",
    "\n",
    "#   #Get line segments\n",
    "#   lineSegments <- rp_lineDist(RM,\n",
    "#                               DLmin = DLmin, DLmax = DLmax,\n",
    "#                               VLmin = VLmin, VLmax = VLmax,\n",
    "#                               HLmin = HLmin, HLmax = HLmax,\n",
    "#                               theiler = theiler, AUTO = AUTO)\n",
    "\n",
    "#   dlines <- lineSegments$diagonals.dist\n",
    "#   vlines <- lineSegments$verticals.dist\n",
    "#   hlines <- lineSegments$horizontals.dist\n",
    "\n",
    "#   #Frequency tables of line lengths\n",
    "#   freq_dl <- table(dlines)\n",
    "#   freq_vl <- table(vlines)\n",
    "#   freq_hl <- table(hlines)\n",
    "\n",
    "#   freqvec_dl <- as.numeric(names(freq_dl))\n",
    "#   freqvec_vl <- as.numeric(names(freq_vl))\n",
    "#   freqvec_hl <- as.numeric(names(freq_hl))\n",
    "\n",
    "#   # Number of lines\n",
    "#   N_dl <- sum(freq_dl, na.rm = TRUE)\n",
    "#   N_vl <- sum(freq_vl, na.rm = TRUE)\n",
    "#   N_hl <- sum(freq_hl, na.rm = TRUE)\n",
    "\n",
    "#   #Number of recurrent points on diagonal, vertical and horizontal lines\n",
    "#   N_dlp <- sum(freqvec_dl*freq_dl, na.rm = TRUE)\n",
    "#   N_vlp <- sum(freqvec_vl*freq_vl, na.rm = TRUE)\n",
    "#   N_hlp <- sum(freqvec_hl*freq_hl, na.rm = TRUE)\n",
    "\n",
    "#   #Determinism / Horizontal and Vertical Laminarity\n",
    "#   DET    <- N_dlp/RP_N\n",
    "#   LAM_vl <- N_vlp/RP_N\n",
    "#   LAM_hl <- N_hlp/RP_N"
   ]
  }
 ],
 "metadata": {
  "kernelspec": {
   "display_name": "MiniPythEnv",
   "language": "python",
   "name": "minipythenv"
  },
  "language_info": {
   "codemirror_mode": {
    "name": "ipython",
    "version": 3
   },
   "file_extension": ".py",
   "mimetype": "text/x-python",
   "name": "python",
   "nbconvert_exporter": "python",
   "pygments_lexer": "ipython3",
   "version": "3.6.8"
  }
 },
 "nbformat": 4,
 "nbformat_minor": 4
}
