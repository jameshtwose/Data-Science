{
 "cells": [
  {
   "cell_type": "markdown",
   "id": "impossible-baseball",
   "metadata": {},
   "source": [
    "# Looking at how adding an extra feature with varying levels of relevance effects the r2_score"
   ]
  },
  {
   "cell_type": "code",
   "execution_count": 1,
   "id": "athletic-lawyer",
   "metadata": {},
   "outputs": [],
   "source": [
    "import pandas as pd\n",
    "import numpy as np\n",
    "import matplotlib.pyplot as plt\n",
    "import seaborn as sns\n",
    "from sklearn.linear_model import LinearRegression\n",
    "from sklearn.metrics import mean_squared_error, r2_score\n",
    "from sklearn.datasets import make_regression\n",
    "from sklearn.model_selection import train_test_split"
   ]
  },
  {
   "cell_type": "code",
   "execution_count": 2,
   "id": "different-hardwood",
   "metadata": {},
   "outputs": [],
   "source": [
    "X, y, coef = make_regression(n_samples=100, \n",
    "                             n_features=10, \n",
    "                             n_informative=5, \n",
    "                             n_targets=1, \n",
    "                             bias=0.0, \n",
    "                             effective_rank=None, \n",
    "                             tail_strength=0.5, \n",
    "                             noise=100, \n",
    "                             shuffle=True, \n",
    "                             coef=True, \n",
    "                             random_state=42)"
   ]
  },
  {
   "cell_type": "code",
   "execution_count": 3,
   "id": "fifteen-realtor",
   "metadata": {},
   "outputs": [
    {
     "data": {
      "text/html": [
       "<div>\n",
       "<style scoped>\n",
       "    .dataframe tbody tr th:only-of-type {\n",
       "        vertical-align: middle;\n",
       "    }\n",
       "\n",
       "    .dataframe tbody tr th {\n",
       "        vertical-align: top;\n",
       "    }\n",
       "\n",
       "    .dataframe thead th {\n",
       "        text-align: right;\n",
       "    }\n",
       "</style>\n",
       "<table border=\"1\" class=\"dataframe\">\n",
       "  <thead>\n",
       "    <tr style=\"text-align: right;\">\n",
       "      <th></th>\n",
       "      <th>feat_0</th>\n",
       "      <th>feat_1</th>\n",
       "      <th>feat_2</th>\n",
       "      <th>feat_3</th>\n",
       "      <th>feat_4</th>\n",
       "      <th>feat_5</th>\n",
       "      <th>feat_6</th>\n",
       "      <th>feat_7</th>\n",
       "      <th>feat_8</th>\n",
       "      <th>feat_9</th>\n",
       "    </tr>\n",
       "  </thead>\n",
       "  <tbody>\n",
       "    <tr>\n",
       "      <th>0</th>\n",
       "      <td>16.748258</td>\n",
       "      <td>0.0</td>\n",
       "      <td>0.0</td>\n",
       "      <td>63.643025</td>\n",
       "      <td>0.0</td>\n",
       "      <td>70.647573</td>\n",
       "      <td>0.0</td>\n",
       "      <td>10.456784</td>\n",
       "      <td>3.158614</td>\n",
       "      <td>0.0</td>\n",
       "    </tr>\n",
       "  </tbody>\n",
       "</table>\n",
       "</div>"
      ],
      "text/plain": [
       "      feat_0  feat_1  feat_2     feat_3  feat_4     feat_5  feat_6     feat_7  \\\n",
       "0  16.748258     0.0     0.0  63.643025     0.0  70.647573     0.0  10.456784   \n",
       "\n",
       "     feat_8  feat_9  \n",
       "0  3.158614     0.0  "
      ]
     },
     "execution_count": 3,
     "metadata": {},
     "output_type": "execute_result"
    }
   ],
   "source": [
    "pd.DataFrame(coef, index=[f\"feat_{x}\" for x in range(0, coef.shape[0])]).T"
   ]
  },
  {
   "cell_type": "code",
   "execution_count": 4,
   "id": "alike-possession",
   "metadata": {},
   "outputs": [],
   "source": [
    "df = (pd.DataFrame(X, columns=[f\"feat_{x}\" for x in range(0, X.shape[1])])\n",
    ".merge(pd.DataFrame(y, columns=[\"target\"]),\n",
    "      left_index=True,\n",
    "      right_index=True))"
   ]
  },
  {
   "cell_type": "code",
   "execution_count": 5,
   "id": "selective-transformation",
   "metadata": {},
   "outputs": [
    {
     "data": {
      "text/html": [
       "<div>\n",
       "<style scoped>\n",
       "    .dataframe tbody tr th:only-of-type {\n",
       "        vertical-align: middle;\n",
       "    }\n",
       "\n",
       "    .dataframe tbody tr th {\n",
       "        vertical-align: top;\n",
       "    }\n",
       "\n",
       "    .dataframe thead th {\n",
       "        text-align: right;\n",
       "    }\n",
       "</style>\n",
       "<table border=\"1\" class=\"dataframe\">\n",
       "  <thead>\n",
       "    <tr style=\"text-align: right;\">\n",
       "      <th></th>\n",
       "      <th>feat_0</th>\n",
       "      <th>feat_1</th>\n",
       "      <th>feat_2</th>\n",
       "      <th>feat_3</th>\n",
       "      <th>feat_4</th>\n",
       "      <th>feat_5</th>\n",
       "      <th>feat_6</th>\n",
       "      <th>feat_7</th>\n",
       "      <th>feat_8</th>\n",
       "      <th>feat_9</th>\n",
       "      <th>target</th>\n",
       "    </tr>\n",
       "  </thead>\n",
       "  <tbody>\n",
       "    <tr>\n",
       "      <th>0</th>\n",
       "      <td>-0.926930</td>\n",
       "      <td>-1.430141</td>\n",
       "      <td>1.632411</td>\n",
       "      <td>-3.241267</td>\n",
       "      <td>-1.247783</td>\n",
       "      <td>-1.024388</td>\n",
       "      <td>0.130741</td>\n",
       "      <td>-0.059525</td>\n",
       "      <td>-0.252568</td>\n",
       "      <td>-0.440044</td>\n",
       "      <td>-186.494628</td>\n",
       "    </tr>\n",
       "    <tr>\n",
       "      <th>1</th>\n",
       "      <td>0.202923</td>\n",
       "      <td>0.334457</td>\n",
       "      <td>0.285865</td>\n",
       "      <td>1.547505</td>\n",
       "      <td>-0.387702</td>\n",
       "      <td>1.795878</td>\n",
       "      <td>2.010205</td>\n",
       "      <td>-1.515744</td>\n",
       "      <td>-0.612789</td>\n",
       "      <td>0.658544</td>\n",
       "      <td>191.976107</td>\n",
       "    </tr>\n",
       "    <tr>\n",
       "      <th>2</th>\n",
       "      <td>-0.241236</td>\n",
       "      <td>0.456753</td>\n",
       "      <td>0.342725</td>\n",
       "      <td>-1.251539</td>\n",
       "      <td>1.117296</td>\n",
       "      <td>1.443765</td>\n",
       "      <td>0.447709</td>\n",
       "      <td>0.352055</td>\n",
       "      <td>-0.082151</td>\n",
       "      <td>0.569767</td>\n",
       "      <td>315.503594</td>\n",
       "    </tr>\n",
       "    <tr>\n",
       "      <th>3</th>\n",
       "      <td>0.289775</td>\n",
       "      <td>-1.008086</td>\n",
       "      <td>-2.038125</td>\n",
       "      <td>0.871125</td>\n",
       "      <td>-0.408075</td>\n",
       "      <td>-0.326024</td>\n",
       "      <td>-0.351513</td>\n",
       "      <td>2.075401</td>\n",
       "      <td>1.201214</td>\n",
       "      <td>-1.870792</td>\n",
       "      <td>100.185659</td>\n",
       "    </tr>\n",
       "    <tr>\n",
       "      <th>4</th>\n",
       "      <td>-0.007973</td>\n",
       "      <td>-0.190339</td>\n",
       "      <td>-1.037246</td>\n",
       "      <td>0.077368</td>\n",
       "      <td>0.538910</td>\n",
       "      <td>-0.861284</td>\n",
       "      <td>-1.382800</td>\n",
       "      <td>1.479944</td>\n",
       "      <td>1.523124</td>\n",
       "      <td>-0.875618</td>\n",
       "      <td>-40.813080</td>\n",
       "    </tr>\n",
       "  </tbody>\n",
       "</table>\n",
       "</div>"
      ],
      "text/plain": [
       "     feat_0    feat_1    feat_2    feat_3    feat_4    feat_5    feat_6  \\\n",
       "0 -0.926930 -1.430141  1.632411 -3.241267 -1.247783 -1.024388  0.130741   \n",
       "1  0.202923  0.334457  0.285865  1.547505 -0.387702  1.795878  2.010205   \n",
       "2 -0.241236  0.456753  0.342725 -1.251539  1.117296  1.443765  0.447709   \n",
       "3  0.289775 -1.008086 -2.038125  0.871125 -0.408075 -0.326024 -0.351513   \n",
       "4 -0.007973 -0.190339 -1.037246  0.077368  0.538910 -0.861284 -1.382800   \n",
       "\n",
       "     feat_7    feat_8    feat_9      target  \n",
       "0 -0.059525 -0.252568 -0.440044 -186.494628  \n",
       "1 -1.515744 -0.612789  0.658544  191.976107  \n",
       "2  0.352055 -0.082151  0.569767  315.503594  \n",
       "3  2.075401  1.201214 -1.870792  100.185659  \n",
       "4  1.479944  1.523124 -0.875618  -40.813080  "
      ]
     },
     "execution_count": 5,
     "metadata": {},
     "output_type": "execute_result"
    }
   ],
   "source": [
    "df.head()"
   ]
  },
  {
   "cell_type": "markdown",
   "id": "executive-offer",
   "metadata": {},
   "source": [
    "## It is interesting to see how choosing a feature with a high coefficient vs one with a coefficient of 0 effects the outcome"
   ]
  },
  {
   "cell_type": "code",
   "execution_count": 6,
   "id": "introductory-harbor",
   "metadata": {},
   "outputs": [],
   "source": [
    "edit_feature = \"feat_5\""
   ]
  },
  {
   "cell_type": "code",
   "execution_count": 7,
   "id": "french-credits",
   "metadata": {},
   "outputs": [],
   "source": [
    "new_feat_df = df[[edit_feature]]"
   ]
  },
  {
   "cell_type": "code",
   "execution_count": 8,
   "id": "remarkable-testimony",
   "metadata": {},
   "outputs": [],
   "source": [
    "## Create "
   ]
  },
  {
   "cell_type": "code",
   "execution_count": 9,
   "id": "mounted-relevance",
   "metadata": {},
   "outputs": [
    {
     "name": "stderr",
     "output_type": "stream",
     "text": [
      "<ipython-input-9-15ece02a7e91>:3: SettingWithCopyWarning: \n",
      "A value is trying to be set on a copy of a slice from a DataFrame.\n",
      "Try using .loc[row_indexer,col_indexer] = value instead\n",
      "\n",
      "See the caveats in the documentation: https://pandas.pydata.org/pandas-docs/stable/user_guide/indexing.html#returning-a-view-versus-a-copy\n",
      "  new_feat_df[f\"extra_feat_{round(i, 2)}\"] = new_feat_df[[edit_feature]].add(np.random.normal(0,i,100).reshape(-1, 1))\n"
     ]
    }
   ],
   "source": [
    "np.random.seed(42)\n",
    "for i in np.arange(0.1, 100, 0.1):\n",
    "    new_feat_df[f\"extra_feat_{round(i, 2)}\"] = new_feat_df[[edit_feature]].add(np.random.normal(0,i,100).reshape(-1, 1))"
   ]
  },
  {
   "cell_type": "code",
   "execution_count": 10,
   "id": "pressing-hungarian",
   "metadata": {},
   "outputs": [
    {
     "data": {
      "text/html": [
       "<div>\n",
       "<style scoped>\n",
       "    .dataframe tbody tr th:only-of-type {\n",
       "        vertical-align: middle;\n",
       "    }\n",
       "\n",
       "    .dataframe tbody tr th {\n",
       "        vertical-align: top;\n",
       "    }\n",
       "\n",
       "    .dataframe thead th {\n",
       "        text-align: right;\n",
       "    }\n",
       "</style>\n",
       "<table border=\"1\" class=\"dataframe\">\n",
       "  <thead>\n",
       "    <tr style=\"text-align: right;\">\n",
       "      <th></th>\n",
       "      <th>feat_5</th>\n",
       "      <th>extra_feat_0.1</th>\n",
       "      <th>extra_feat_0.2</th>\n",
       "      <th>extra_feat_0.3</th>\n",
       "      <th>extra_feat_0.4</th>\n",
       "      <th>extra_feat_0.5</th>\n",
       "      <th>extra_feat_0.6</th>\n",
       "      <th>extra_feat_0.7</th>\n",
       "      <th>extra_feat_0.8</th>\n",
       "      <th>extra_feat_0.9</th>\n",
       "      <th>...</th>\n",
       "      <th>extra_feat_99.0</th>\n",
       "      <th>extra_feat_99.1</th>\n",
       "      <th>extra_feat_99.2</th>\n",
       "      <th>extra_feat_99.3</th>\n",
       "      <th>extra_feat_99.4</th>\n",
       "      <th>extra_feat_99.5</th>\n",
       "      <th>extra_feat_99.6</th>\n",
       "      <th>extra_feat_99.7</th>\n",
       "      <th>extra_feat_99.8</th>\n",
       "      <th>extra_feat_99.9</th>\n",
       "    </tr>\n",
       "  </thead>\n",
       "  <tbody>\n",
       "    <tr>\n",
       "      <th>0</th>\n",
       "      <td>-1.024388</td>\n",
       "      <td>-0.974716</td>\n",
       "      <td>-1.307462</td>\n",
       "      <td>-0.917051</td>\n",
       "      <td>-1.355986</td>\n",
       "      <td>-1.821601</td>\n",
       "      <td>-0.468681</td>\n",
       "      <td>-0.494496</td>\n",
       "      <td>-1.442566</td>\n",
       "      <td>-0.179932</td>\n",
       "      <td>...</td>\n",
       "      <td>-16.004939</td>\n",
       "      <td>133.364347</td>\n",
       "      <td>-58.934818</td>\n",
       "      <td>116.415540</td>\n",
       "      <td>124.949513</td>\n",
       "      <td>10.956874</td>\n",
       "      <td>152.970119</td>\n",
       "      <td>-61.107173</td>\n",
       "      <td>-140.130109</td>\n",
       "      <td>9.020166</td>\n",
       "    </tr>\n",
       "    <tr>\n",
       "      <th>1</th>\n",
       "      <td>1.795878</td>\n",
       "      <td>1.782051</td>\n",
       "      <td>1.711749</td>\n",
       "      <td>1.964113</td>\n",
       "      <td>1.571805</td>\n",
       "      <td>1.496190</td>\n",
       "      <td>2.941528</td>\n",
       "      <td>1.150362</td>\n",
       "      <td>2.635085</td>\n",
       "      <td>1.331437</td>\n",
       "      <td>...</td>\n",
       "      <td>122.317131</td>\n",
       "      <td>-51.718905</td>\n",
       "      <td>72.445362</td>\n",
       "      <td>-19.581405</td>\n",
       "      <td>-24.721140</td>\n",
       "      <td>19.987382</td>\n",
       "      <td>-32.259533</td>\n",
       "      <td>32.857998</td>\n",
       "      <td>-53.048834</td>\n",
       "      <td>-12.343040</td>\n",
       "    </tr>\n",
       "    <tr>\n",
       "      <th>2</th>\n",
       "      <td>1.443765</td>\n",
       "      <td>1.508533</td>\n",
       "      <td>1.375222</td>\n",
       "      <td>1.768680</td>\n",
       "      <td>1.742682</td>\n",
       "      <td>1.446386</td>\n",
       "      <td>0.604624</td>\n",
       "      <td>2.052489</td>\n",
       "      <td>0.880290</td>\n",
       "      <td>1.530273</td>\n",
       "      <td>...</td>\n",
       "      <td>-29.645214</td>\n",
       "      <td>-1.617802</td>\n",
       "      <td>-15.752390</td>\n",
       "      <td>62.461780</td>\n",
       "      <td>-33.942097</td>\n",
       "      <td>34.128823</td>\n",
       "      <td>94.635425</td>\n",
       "      <td>-103.690008</td>\n",
       "      <td>73.000333</td>\n",
       "      <td>-119.124344</td>\n",
       "    </tr>\n",
       "    <tr>\n",
       "      <th>3</th>\n",
       "      <td>-0.326024</td>\n",
       "      <td>-0.173721</td>\n",
       "      <td>-0.486479</td>\n",
       "      <td>-0.009883</td>\n",
       "      <td>-0.081875</td>\n",
       "      <td>-0.302533</td>\n",
       "      <td>0.011758</td>\n",
       "      <td>0.622923</td>\n",
       "      <td>-1.452793</td>\n",
       "      <td>-0.742071</td>\n",
       "      <td>...</td>\n",
       "      <td>7.551026</td>\n",
       "      <td>-92.430132</td>\n",
       "      <td>41.112141</td>\n",
       "      <td>31.240235</td>\n",
       "      <td>17.735043</td>\n",
       "      <td>210.924356</td>\n",
       "      <td>51.918244</td>\n",
       "      <td>0.612539</td>\n",
       "      <td>39.567114</td>\n",
       "      <td>-123.228660</td>\n",
       "    </tr>\n",
       "    <tr>\n",
       "      <th>4</th>\n",
       "      <td>-0.861284</td>\n",
       "      <td>-0.884700</td>\n",
       "      <td>-0.893541</td>\n",
       "      <td>-1.274585</td>\n",
       "      <td>-0.869645</td>\n",
       "      <td>-1.086317</td>\n",
       "      <td>-1.251670</td>\n",
       "      <td>-0.571880</td>\n",
       "      <td>-2.106588</td>\n",
       "      <td>-1.252331</td>\n",
       "      <td>...</td>\n",
       "      <td>-24.106935</td>\n",
       "      <td>-5.330764</td>\n",
       "      <td>82.459494</td>\n",
       "      <td>54.121763</td>\n",
       "      <td>7.279049</td>\n",
       "      <td>153.839735</td>\n",
       "      <td>-196.280966</td>\n",
       "      <td>159.187931</td>\n",
       "      <td>27.495354</td>\n",
       "      <td>19.974685</td>\n",
       "    </tr>\n",
       "  </tbody>\n",
       "</table>\n",
       "<p>5 rows × 1000 columns</p>\n",
       "</div>"
      ],
      "text/plain": [
       "     feat_5  extra_feat_0.1  extra_feat_0.2  extra_feat_0.3  extra_feat_0.4  \\\n",
       "0 -1.024388       -0.974716       -1.307462       -0.917051       -1.355986   \n",
       "1  1.795878        1.782051        1.711749        1.964113        1.571805   \n",
       "2  1.443765        1.508533        1.375222        1.768680        1.742682   \n",
       "3 -0.326024       -0.173721       -0.486479       -0.009883       -0.081875   \n",
       "4 -0.861284       -0.884700       -0.893541       -1.274585       -0.869645   \n",
       "\n",
       "   extra_feat_0.5  extra_feat_0.6  extra_feat_0.7  extra_feat_0.8  \\\n",
       "0       -1.821601       -0.468681       -0.494496       -1.442566   \n",
       "1        1.496190        2.941528        1.150362        2.635085   \n",
       "2        1.446386        0.604624        2.052489        0.880290   \n",
       "3       -0.302533        0.011758        0.622923       -1.452793   \n",
       "4       -1.086317       -1.251670       -0.571880       -2.106588   \n",
       "\n",
       "   extra_feat_0.9  ...  extra_feat_99.0  extra_feat_99.1  extra_feat_99.2  \\\n",
       "0       -0.179932  ...       -16.004939       133.364347       -58.934818   \n",
       "1        1.331437  ...       122.317131       -51.718905        72.445362   \n",
       "2        1.530273  ...       -29.645214        -1.617802       -15.752390   \n",
       "3       -0.742071  ...         7.551026       -92.430132        41.112141   \n",
       "4       -1.252331  ...       -24.106935        -5.330764        82.459494   \n",
       "\n",
       "   extra_feat_99.3  extra_feat_99.4  extra_feat_99.5  extra_feat_99.6  \\\n",
       "0       116.415540       124.949513        10.956874       152.970119   \n",
       "1       -19.581405       -24.721140        19.987382       -32.259533   \n",
       "2        62.461780       -33.942097        34.128823        94.635425   \n",
       "3        31.240235        17.735043       210.924356        51.918244   \n",
       "4        54.121763         7.279049       153.839735      -196.280966   \n",
       "\n",
       "   extra_feat_99.7  extra_feat_99.8  extra_feat_99.9  \n",
       "0       -61.107173      -140.130109         9.020166  \n",
       "1        32.857998       -53.048834       -12.343040  \n",
       "2      -103.690008        73.000333      -119.124344  \n",
       "3         0.612539        39.567114      -123.228660  \n",
       "4       159.187931        27.495354        19.974685  \n",
       "\n",
       "[5 rows x 1000 columns]"
      ]
     },
     "execution_count": 10,
     "metadata": {},
     "output_type": "execute_result"
    }
   ],
   "source": [
    "new_feat_df.head()"
   ]
  },
  {
   "cell_type": "markdown",
   "id": "preliminary-connection",
   "metadata": {},
   "source": [
    "## Show the fit and r2-score of the original data frame without the extra noise based feature"
   ]
  },
  {
   "cell_type": "code",
   "execution_count": 11,
   "id": "behavioral-links",
   "metadata": {},
   "outputs": [],
   "source": [
    "X = df.filter(regex=\"feat\")\n",
    "y = df[\"target\"]"
   ]
  },
  {
   "cell_type": "code",
   "execution_count": 12,
   "id": "offensive-progressive",
   "metadata": {},
   "outputs": [],
   "source": [
    "X_train, X_test, y_train, y_test = train_test_split(X, y, test_size=0.2, random_state=42)"
   ]
  },
  {
   "cell_type": "code",
   "execution_count": 13,
   "id": "uniform-offense",
   "metadata": {},
   "outputs": [],
   "source": [
    "model = LinearRegression()"
   ]
  },
  {
   "cell_type": "code",
   "execution_count": 14,
   "id": "special-zealand",
   "metadata": {},
   "outputs": [],
   "source": [
    "_ = model.fit(X_train, y_train)"
   ]
  },
  {
   "cell_type": "code",
   "execution_count": 15,
   "id": "southeast-camera",
   "metadata": {},
   "outputs": [],
   "source": [
    "y_pred = model.predict(X_test)"
   ]
  },
  {
   "cell_type": "code",
   "execution_count": 16,
   "id": "naval-canal",
   "metadata": {},
   "outputs": [
    {
     "data": {
      "image/png": "[encoded data removed]",
      "text/plain": [
       "<Figure size 432x288 with 1 Axes>"
      ]
     },
     "metadata": {
      "needs_background": "light"
     },
     "output_type": "display_data"
    }
   ],
   "source": [
    "_ = sns.regplot(x=y_test, y=y_pred)\n",
    "_ = plt.text(x=150, y=-200, s=f\"r_square = {round(r2_score(y_test, y_pred), 3)}\")"
   ]
  },
  {
   "cell_type": "code",
   "execution_count": 17,
   "id": "gothic-blackjack",
   "metadata": {},
   "outputs": [],
   "source": [
    "original_r2_score = r2_score(y_test, y_pred)"
   ]
  },
  {
   "cell_type": "markdown",
   "id": "specific-makeup",
   "metadata": {},
   "source": [
    "## Run the same regression as above but with a different noise feature added each time \n",
    "(thus seeing how adding a different feature with more or less noise effects the r2 score of the model)"
   ]
  },
  {
   "cell_type": "code",
   "execution_count": 18,
   "id": "metallic-miniature",
   "metadata": {},
   "outputs": [],
   "source": [
    "noise_features_list = new_feat_df.drop(edit_feature, axis=1).columns.tolist()"
   ]
  },
  {
   "cell_type": "code",
   "execution_count": 19,
   "id": "mental-stuart",
   "metadata": {},
   "outputs": [],
   "source": [
    "all_r2_df = pd.DataFrame()\n",
    "for noise_feat in noise_features_list:\n",
    "    \n",
    "    X = df.filter(regex=\"feat\")\n",
    "    X = pd.concat([X, new_feat_df[[noise_feat]]], axis=1)\n",
    "    y = df[\"target\"]\n",
    "    \n",
    "    X_train, X_test, y_train, y_test = train_test_split(X, y, test_size=0.2, random_state=42)\n",
    "\n",
    "    model = LinearRegression()\n",
    "\n",
    "    _ = model.fit(X_train, y_train)\n",
    "\n",
    "    y_pred = model.predict(X_test)\n",
    "    \n",
    "    current_r2_df = pd.DataFrame({\"added_feature\": noise_feat,\n",
    "                                  \"noise_std\": float(noise_feat[-3:]),\n",
    "                                  \"r2\": r2_score(y_test, y_pred)}, index=[0])\n",
    "    all_r2_df = pd.concat([all_r2_df, current_r2_df])"
   ]
  },
  {
   "cell_type": "markdown",
   "id": "historical-launch",
   "metadata": {},
   "source": [
    "## Show an example of one of the X's to compare to the initial data frame used to get the initial r2 score shown above in the scatter plot"
   ]
  },
  {
   "cell_type": "code",
   "execution_count": 20,
   "id": "personalized-hampton",
   "metadata": {},
   "outputs": [
    {
     "data": {
      "text/html": [
       "<div>\n",
       "<style scoped>\n",
       "    .dataframe tbody tr th:only-of-type {\n",
       "        vertical-align: middle;\n",
       "    }\n",
       "\n",
       "    .dataframe tbody tr th {\n",
       "        vertical-align: top;\n",
       "    }\n",
       "\n",
       "    .dataframe thead th {\n",
       "        text-align: right;\n",
       "    }\n",
       "</style>\n",
       "<table border=\"1\" class=\"dataframe\">\n",
       "  <thead>\n",
       "    <tr style=\"text-align: right;\">\n",
       "      <th></th>\n",
       "      <th>feat_0</th>\n",
       "      <th>feat_1</th>\n",
       "      <th>feat_2</th>\n",
       "      <th>feat_3</th>\n",
       "      <th>feat_4</th>\n",
       "      <th>feat_5</th>\n",
       "      <th>feat_6</th>\n",
       "      <th>feat_7</th>\n",
       "      <th>feat_8</th>\n",
       "      <th>feat_9</th>\n",
       "    </tr>\n",
       "  </thead>\n",
       "  <tbody>\n",
       "    <tr>\n",
       "      <th>0</th>\n",
       "      <td>-0.92693</td>\n",
       "      <td>-1.430141</td>\n",
       "      <td>1.632411</td>\n",
       "      <td>-3.241267</td>\n",
       "      <td>-1.247783</td>\n",
       "      <td>-1.024388</td>\n",
       "      <td>0.130741</td>\n",
       "      <td>-0.059525</td>\n",
       "      <td>-0.252568</td>\n",
       "      <td>-0.440044</td>\n",
       "    </tr>\n",
       "  </tbody>\n",
       "</table>\n",
       "</div>"
      ],
      "text/plain": [
       "    feat_0    feat_1    feat_2    feat_3    feat_4    feat_5    feat_6  \\\n",
       "0 -0.92693 -1.430141  1.632411 -3.241267 -1.247783 -1.024388  0.130741   \n",
       "\n",
       "     feat_7    feat_8    feat_9  \n",
       "0 -0.059525 -0.252568 -0.440044  "
      ]
     },
     "execution_count": 20,
     "metadata": {},
     "output_type": "execute_result"
    }
   ],
   "source": [
    "df.filter(regex=\"feat\").head(1)"
   ]
  },
  {
   "cell_type": "code",
   "execution_count": 21,
   "id": "korean-minneapolis",
   "metadata": {},
   "outputs": [
    {
     "data": {
      "text/html": [
       "<div>\n",
       "<style scoped>\n",
       "    .dataframe tbody tr th:only-of-type {\n",
       "        vertical-align: middle;\n",
       "    }\n",
       "\n",
       "    .dataframe tbody tr th {\n",
       "        vertical-align: top;\n",
       "    }\n",
       "\n",
       "    .dataframe thead th {\n",
       "        text-align: right;\n",
       "    }\n",
       "</style>\n",
       "<table border=\"1\" class=\"dataframe\">\n",
       "  <thead>\n",
       "    <tr style=\"text-align: right;\">\n",
       "      <th></th>\n",
       "      <th>feat_0</th>\n",
       "      <th>feat_1</th>\n",
       "      <th>feat_2</th>\n",
       "      <th>feat_3</th>\n",
       "      <th>feat_4</th>\n",
       "      <th>feat_5</th>\n",
       "      <th>feat_6</th>\n",
       "      <th>feat_7</th>\n",
       "      <th>feat_8</th>\n",
       "      <th>feat_9</th>\n",
       "      <th>extra_feat_99.9</th>\n",
       "    </tr>\n",
       "  </thead>\n",
       "  <tbody>\n",
       "    <tr>\n",
       "      <th>0</th>\n",
       "      <td>-0.92693</td>\n",
       "      <td>-1.430141</td>\n",
       "      <td>1.632411</td>\n",
       "      <td>-3.241267</td>\n",
       "      <td>-1.247783</td>\n",
       "      <td>-1.024388</td>\n",
       "      <td>0.130741</td>\n",
       "      <td>-0.059525</td>\n",
       "      <td>-0.252568</td>\n",
       "      <td>-0.440044</td>\n",
       "      <td>9.020166</td>\n",
       "    </tr>\n",
       "  </tbody>\n",
       "</table>\n",
       "</div>"
      ],
      "text/plain": [
       "    feat_0    feat_1    feat_2    feat_3    feat_4    feat_5    feat_6  \\\n",
       "0 -0.92693 -1.430141  1.632411 -3.241267 -1.247783 -1.024388  0.130741   \n",
       "\n",
       "     feat_7    feat_8    feat_9  extra_feat_99.9  \n",
       "0 -0.059525 -0.252568 -0.440044         9.020166  "
      ]
     },
     "execution_count": 21,
     "metadata": {},
     "output_type": "execute_result"
    }
   ],
   "source": [
    "X.head(1)"
   ]
  },
  {
   "cell_type": "markdown",
   "id": "sensitive-donna",
   "metadata": {},
   "source": [
    "## Plot all the r2 scores"
   ]
  },
  {
   "cell_type": "code",
   "execution_count": 22,
   "id": "returning-evaluation",
   "metadata": {},
   "outputs": [
    {
     "data": {
      "image/png": "[encoded data removed]",
      "text/plain": [
       "<Figure size 432x288 with 1 Axes>"
      ]
     },
     "metadata": {
      "needs_background": "light"
     },
     "output_type": "display_data"
    }
   ],
   "source": [
    "_ = sns.scatterplot(data=all_r2_df, x=\"noise_std\", y=\"r2\")\n",
    "_ = sns.lineplot(data=all_r2_df, x=\"noise_std\", y=\"r2\")\n",
    "_ = plt.axhline(y=original_r2_score, c=\"red\", label=\"Original r2 score, before adding an extra feature\")\n",
    "_ = plt.legend()"
   ]
  },
  {
   "cell_type": "markdown",
   "id": "optional-quarter",
   "metadata": {},
   "source": [
    "## Initial multiple choice question:"
   ]
  },
  {
   "cell_type": "markdown",
   "id": "former-earth",
   "metadata": {},
   "source": [
    "Adding a non-important feature to a linear regression model may result in: \n",
    "1. Increase in R-square \n",
    "2. Decrease in R-square \n",
    "\n",
    "Answer: Only 1 is correct"
   ]
  },
  {
   "cell_type": "markdown",
   "id": "imperial-citizen",
   "metadata": {},
   "source": [
    "## Based on the r2 vs noise_std plot it seems like the answer hinges on how one defines \"non-important to the model\"."
   ]
  },
  {
   "cell_type": "markdown",
   "id": "fantastic-suggestion",
   "metadata": {},
   "source": [
    "#### So whilst in theory - based on the formula used to calculate the r2 score - adding an extra feature should always increase the r-squared score - hence the need for adjusted r-squareds, it actually hinges on what is considered \"non-important\". Hence I would suggest rewording the multiple choice question to reflect this somehow."
   ]
  }
 ],
 "metadata": {
  "kernelspec": {
   "display_name": "general",
   "language": "python",
   "name": "general"
  },
  "language_info": {
   "codemirror_mode": {
    "name": "ipython",
    "version": 3
   },
   "file_extension": ".py",
   "mimetype": "text/x-python",
   "name": "python",
   "nbconvert_exporter": "python",
   "pygments_lexer": "ipython3",
   "version": "3.9.2"
  }
 },
 "nbformat": 4,
 "nbformat_minor": 5
}
