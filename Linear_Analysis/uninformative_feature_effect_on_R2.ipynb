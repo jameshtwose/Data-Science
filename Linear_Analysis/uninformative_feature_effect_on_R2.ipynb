{
 "cells": [
  {
   "cell_type": "markdown",
   "id": "junior-compiler",
   "metadata": {},
   "source": [
    "# Looking at how adding an extra feature with varying levels of relevance effects the r2_score"
   ]
  },
  {
   "cell_type": "code",
   "execution_count": 1,
   "id": "sporting-assignment",
   "metadata": {},
   "outputs": [],
   "source": [
    "import pandas as pd\n",
    "import numpy as np\n",
    "import matplotlib.pyplot as plt\n",
    "import seaborn as sns\n",
    "from sklearn.linear_model import LinearRegression\n",
    "from sklearn.metrics import mean_squared_error, r2_score\n",
    "from sklearn.datasets import make_regression\n",
    "from sklearn.model_selection import train_test_split"
   ]
  },
  {
   "cell_type": "code",
   "execution_count": 2,
   "id": "collaborative-humor",
   "metadata": {},
   "outputs": [],
   "source": [
    "X, y, coef = make_regression(n_samples=100, \n",
    "                             n_features=10, \n",
    "                             n_informative=5, \n",
    "                             n_targets=1, \n",
    "                             bias=0.0, \n",
    "                             effective_rank=None, \n",
    "                             tail_strength=0.5, \n",
    "                             noise=100, \n",
    "                             shuffle=True, \n",
    "                             coef=True, \n",
    "                             random_state=42)"
   ]
  },
  {
   "cell_type": "code",
   "execution_count": 3,
   "id": "referenced-greensboro",
   "metadata": {},
   "outputs": [
    {
     "data": {
      "text/html": [
       "<div>\n",
       "<style scoped>\n",
       "    .dataframe tbody tr th:only-of-type {\n",
       "        vertical-align: middle;\n",
       "    }\n",
       "\n",
       "    .dataframe tbody tr th {\n",
       "        vertical-align: top;\n",
       "    }\n",
       "\n",
       "    .dataframe thead th {\n",
       "        text-align: right;\n",
       "    }\n",
       "</style>\n",
       "<table border=\"1\" class=\"dataframe\">\n",
       "  <thead>\n",
       "    <tr style=\"text-align: right;\">\n",
       "      <th></th>\n",
       "      <th>feat_0</th>\n",
       "      <th>feat_1</th>\n",
       "      <th>feat_2</th>\n",
       "      <th>feat_3</th>\n",
       "      <th>feat_4</th>\n",
       "      <th>feat_5</th>\n",
       "      <th>feat_6</th>\n",
       "      <th>feat_7</th>\n",
       "      <th>feat_8</th>\n",
       "      <th>feat_9</th>\n",
       "    </tr>\n",
       "  </thead>\n",
       "  <tbody>\n",
       "    <tr>\n",
       "      <th>0</th>\n",
       "      <td>16.748258</td>\n",
       "      <td>0.0</td>\n",
       "      <td>0.0</td>\n",
       "      <td>63.643025</td>\n",
       "      <td>0.0</td>\n",
       "      <td>70.647573</td>\n",
       "      <td>0.0</td>\n",
       "      <td>10.456784</td>\n",
       "      <td>3.158614</td>\n",
       "      <td>0.0</td>\n",
       "    </tr>\n",
       "  </tbody>\n",
       "</table>\n",
       "</div>"
      ],
      "text/plain": [
       "      feat_0  feat_1  feat_2     feat_3  feat_4     feat_5  feat_6     feat_7  \\\n",
       "0  16.748258     0.0     0.0  63.643025     0.0  70.647573     0.0  10.456784   \n",
       "\n",
       "     feat_8  feat_9  \n",
       "0  3.158614     0.0  "
      ]
     },
     "execution_count": 3,
     "metadata": {},
     "output_type": "execute_result"
    }
   ],
   "source": [
    "pd.DataFrame(coef, index=[f\"feat_{x}\" for x in range(0, coef.shape[0])]).T"
   ]
  },
  {
   "cell_type": "code",
   "execution_count": 4,
   "id": "early-details",
   "metadata": {},
   "outputs": [],
   "source": [
    "df = (pd.DataFrame(X, columns=[f\"feat_{x}\" for x in range(0, X.shape[1])])\n",
    ".merge(pd.DataFrame(y, columns=[\"target\"]),\n",
    "      left_index=True,\n",
    "      right_index=True))"
   ]
  },
  {
   "cell_type": "code",
   "execution_count": 5,
   "id": "aging-rogers",
   "metadata": {},
   "outputs": [
    {
     "data": {
      "text/html": [
       "<div>\n",
       "<style scoped>\n",
       "    .dataframe tbody tr th:only-of-type {\n",
       "        vertical-align: middle;\n",
       "    }\n",
       "\n",
       "    .dataframe tbody tr th {\n",
       "        vertical-align: top;\n",
       "    }\n",
       "\n",
       "    .dataframe thead th {\n",
       "        text-align: right;\n",
       "    }\n",
       "</style>\n",
       "<table border=\"1\" class=\"dataframe\">\n",
       "  <thead>\n",
       "    <tr style=\"text-align: right;\">\n",
       "      <th></th>\n",
       "      <th>feat_0</th>\n",
       "      <th>feat_1</th>\n",
       "      <th>feat_2</th>\n",
       "      <th>feat_3</th>\n",
       "      <th>feat_4</th>\n",
       "      <th>feat_5</th>\n",
       "      <th>feat_6</th>\n",
       "      <th>feat_7</th>\n",
       "      <th>feat_8</th>\n",
       "      <th>feat_9</th>\n",
       "      <th>target</th>\n",
       "    </tr>\n",
       "  </thead>\n",
       "  <tbody>\n",
       "    <tr>\n",
       "      <th>0</th>\n",
       "      <td>-0.926930</td>\n",
       "      <td>-1.430141</td>\n",
       "      <td>1.632411</td>\n",
       "      <td>-3.241267</td>\n",
       "      <td>-1.247783</td>\n",
       "      <td>-1.024388</td>\n",
       "      <td>0.130741</td>\n",
       "      <td>-0.059525</td>\n",
       "      <td>-0.252568</td>\n",
       "      <td>-0.440044</td>\n",
       "      <td>-186.494628</td>\n",
       "    </tr>\n",
       "    <tr>\n",
       "      <th>1</th>\n",
       "      <td>0.202923</td>\n",
       "      <td>0.334457</td>\n",
       "      <td>0.285865</td>\n",
       "      <td>1.547505</td>\n",
       "      <td>-0.387702</td>\n",
       "      <td>1.795878</td>\n",
       "      <td>2.010205</td>\n",
       "      <td>-1.515744</td>\n",
       "      <td>-0.612789</td>\n",
       "      <td>0.658544</td>\n",
       "      <td>191.976107</td>\n",
       "    </tr>\n",
       "    <tr>\n",
       "      <th>2</th>\n",
       "      <td>-0.241236</td>\n",
       "      <td>0.456753</td>\n",
       "      <td>0.342725</td>\n",
       "      <td>-1.251539</td>\n",
       "      <td>1.117296</td>\n",
       "      <td>1.443765</td>\n",
       "      <td>0.447709</td>\n",
       "      <td>0.352055</td>\n",
       "      <td>-0.082151</td>\n",
       "      <td>0.569767</td>\n",
       "      <td>315.503594</td>\n",
       "    </tr>\n",
       "    <tr>\n",
       "      <th>3</th>\n",
       "      <td>0.289775</td>\n",
       "      <td>-1.008086</td>\n",
       "      <td>-2.038125</td>\n",
       "      <td>0.871125</td>\n",
       "      <td>-0.408075</td>\n",
       "      <td>-0.326024</td>\n",
       "      <td>-0.351513</td>\n",
       "      <td>2.075401</td>\n",
       "      <td>1.201214</td>\n",
       "      <td>-1.870792</td>\n",
       "      <td>100.185659</td>\n",
       "    </tr>\n",
       "    <tr>\n",
       "      <th>4</th>\n",
       "      <td>-0.007973</td>\n",
       "      <td>-0.190339</td>\n",
       "      <td>-1.037246</td>\n",
       "      <td>0.077368</td>\n",
       "      <td>0.538910</td>\n",
       "      <td>-0.861284</td>\n",
       "      <td>-1.382800</td>\n",
       "      <td>1.479944</td>\n",
       "      <td>1.523124</td>\n",
       "      <td>-0.875618</td>\n",
       "      <td>-40.813080</td>\n",
       "    </tr>\n",
       "  </tbody>\n",
       "</table>\n",
       "</div>"
      ],
      "text/plain": [
       "     feat_0    feat_1    feat_2    feat_3    feat_4    feat_5    feat_6  \\\n",
       "0 -0.926930 -1.430141  1.632411 -3.241267 -1.247783 -1.024388  0.130741   \n",
       "1  0.202923  0.334457  0.285865  1.547505 -0.387702  1.795878  2.010205   \n",
       "2 -0.241236  0.456753  0.342725 -1.251539  1.117296  1.443765  0.447709   \n",
       "3  0.289775 -1.008086 -2.038125  0.871125 -0.408075 -0.326024 -0.351513   \n",
       "4 -0.007973 -0.190339 -1.037246  0.077368  0.538910 -0.861284 -1.382800   \n",
       "\n",
       "     feat_7    feat_8    feat_9      target  \n",
       "0 -0.059525 -0.252568 -0.440044 -186.494628  \n",
       "1 -1.515744 -0.612789  0.658544  191.976107  \n",
       "2  0.352055 -0.082151  0.569767  315.503594  \n",
       "3  2.075401  1.201214 -1.870792  100.185659  \n",
       "4  1.479944  1.523124 -0.875618  -40.813080  "
      ]
     },
     "execution_count": 5,
     "metadata": {},
     "output_type": "execute_result"
    }
   ],
   "source": [
    "df.head()"
   ]
  },
  {
   "cell_type": "markdown",
   "id": "accessory-perry",
   "metadata": {},
   "source": [
    "## It is interesting to see how choosing a feature with a high coefficient vs one with a coefficient of 0 effects the outcome"
   ]
  },
  {
   "cell_type": "code",
   "execution_count": 6,
   "id": "formal-broadcasting",
   "metadata": {},
   "outputs": [],
   "source": [
    "edit_feature = \"feat_1\""
   ]
  },
  {
   "cell_type": "code",
   "execution_count": 7,
   "id": "second-intervention",
   "metadata": {},
   "outputs": [],
   "source": [
    "new_feat_df = df[[edit_feature]]"
   ]
  },
  {
   "cell_type": "code",
   "execution_count": 8,
   "id": "international-equity",
   "metadata": {},
   "outputs": [],
   "source": [
    "## Create "
   ]
  },
  {
   "cell_type": "code",
   "execution_count": 9,
   "id": "conceptual-breath",
   "metadata": {},
   "outputs": [
    {
     "name": "stderr",
     "output_type": "stream",
     "text": [
      "<ipython-input-9-15ece02a7e91>:3: SettingWithCopyWarning: \n",
      "A value is trying to be set on a copy of a slice from a DataFrame.\n",
      "Try using .loc[row_indexer,col_indexer] = value instead\n",
      "\n",
      "See the caveats in the documentation: https://pandas.pydata.org/pandas-docs/stable/user_guide/indexing.html#returning-a-view-versus-a-copy\n",
      "  new_feat_df[f\"extra_feat_{round(i, 2)}\"] = new_feat_df[[edit_feature]].add(np.random.normal(0,i,100).reshape(-1, 1))\n"
     ]
    }
   ],
   "source": [
    "np.random.seed(42)\n",
    "for i in np.arange(0.1, 100, 0.1):\n",
    "    new_feat_df[f\"extra_feat_{round(i, 2)}\"] = new_feat_df[[edit_feature]].add(np.random.normal(0,i,100).reshape(-1, 1))"
   ]
  },
  {
   "cell_type": "code",
   "execution_count": 10,
   "id": "australian-excuse",
   "metadata": {},
   "outputs": [
    {
     "data": {
      "text/html": [
       "<div>\n",
       "<style scoped>\n",
       "    .dataframe tbody tr th:only-of-type {\n",
       "        vertical-align: middle;\n",
       "    }\n",
       "\n",
       "    .dataframe tbody tr th {\n",
       "        vertical-align: top;\n",
       "    }\n",
       "\n",
       "    .dataframe thead th {\n",
       "        text-align: right;\n",
       "    }\n",
       "</style>\n",
       "<table border=\"1\" class=\"dataframe\">\n",
       "  <thead>\n",
       "    <tr style=\"text-align: right;\">\n",
       "      <th></th>\n",
       "      <th>feat_1</th>\n",
       "      <th>extra_feat_0.1</th>\n",
       "      <th>extra_feat_0.2</th>\n",
       "      <th>extra_feat_0.3</th>\n",
       "      <th>extra_feat_0.4</th>\n",
       "      <th>extra_feat_0.5</th>\n",
       "      <th>extra_feat_0.6</th>\n",
       "      <th>extra_feat_0.7</th>\n",
       "      <th>extra_feat_0.8</th>\n",
       "      <th>extra_feat_0.9</th>\n",
       "      <th>...</th>\n",
       "      <th>extra_feat_99.0</th>\n",
       "      <th>extra_feat_99.1</th>\n",
       "      <th>extra_feat_99.2</th>\n",
       "      <th>extra_feat_99.3</th>\n",
       "      <th>extra_feat_99.4</th>\n",
       "      <th>extra_feat_99.5</th>\n",
       "      <th>extra_feat_99.6</th>\n",
       "      <th>extra_feat_99.7</th>\n",
       "      <th>extra_feat_99.8</th>\n",
       "      <th>extra_feat_99.9</th>\n",
       "    </tr>\n",
       "  </thead>\n",
       "  <tbody>\n",
       "    <tr>\n",
       "      <th>0</th>\n",
       "      <td>-1.430141</td>\n",
       "      <td>-1.380470</td>\n",
       "      <td>-1.713216</td>\n",
       "      <td>-1.322805</td>\n",
       "      <td>-1.761739</td>\n",
       "      <td>-2.227355</td>\n",
       "      <td>-0.874435</td>\n",
       "      <td>-0.900249</td>\n",
       "      <td>-1.848320</td>\n",
       "      <td>-0.585686</td>\n",
       "      <td>...</td>\n",
       "      <td>-16.410693</td>\n",
       "      <td>132.958593</td>\n",
       "      <td>-59.340571</td>\n",
       "      <td>116.009787</td>\n",
       "      <td>124.543760</td>\n",
       "      <td>10.551120</td>\n",
       "      <td>152.564366</td>\n",
       "      <td>-61.512927</td>\n",
       "      <td>-140.535863</td>\n",
       "      <td>8.614412</td>\n",
       "    </tr>\n",
       "    <tr>\n",
       "      <th>1</th>\n",
       "      <td>0.334457</td>\n",
       "      <td>0.320630</td>\n",
       "      <td>0.250328</td>\n",
       "      <td>0.502692</td>\n",
       "      <td>0.110384</td>\n",
       "      <td>0.034769</td>\n",
       "      <td>1.480107</td>\n",
       "      <td>-0.311059</td>\n",
       "      <td>1.173664</td>\n",
       "      <td>-0.129983</td>\n",
       "      <td>...</td>\n",
       "      <td>120.855711</td>\n",
       "      <td>-53.180326</td>\n",
       "      <td>70.983942</td>\n",
       "      <td>-21.042826</td>\n",
       "      <td>-26.182561</td>\n",
       "      <td>18.525961</td>\n",
       "      <td>-33.720954</td>\n",
       "      <td>31.396577</td>\n",
       "      <td>-54.510255</td>\n",
       "      <td>-13.804461</td>\n",
       "    </tr>\n",
       "    <tr>\n",
       "      <th>2</th>\n",
       "      <td>0.456753</td>\n",
       "      <td>0.521522</td>\n",
       "      <td>0.388210</td>\n",
       "      <td>0.781669</td>\n",
       "      <td>0.755671</td>\n",
       "      <td>0.459375</td>\n",
       "      <td>-0.382387</td>\n",
       "      <td>1.065477</td>\n",
       "      <td>-0.106722</td>\n",
       "      <td>0.543262</td>\n",
       "      <td>...</td>\n",
       "      <td>-30.632225</td>\n",
       "      <td>-2.604814</td>\n",
       "      <td>-16.739401</td>\n",
       "      <td>61.474768</td>\n",
       "      <td>-34.929109</td>\n",
       "      <td>33.141811</td>\n",
       "      <td>93.648414</td>\n",
       "      <td>-104.677020</td>\n",
       "      <td>72.013321</td>\n",
       "      <td>-120.111356</td>\n",
       "    </tr>\n",
       "    <tr>\n",
       "      <th>3</th>\n",
       "      <td>-1.008086</td>\n",
       "      <td>-0.855783</td>\n",
       "      <td>-1.168542</td>\n",
       "      <td>-0.691946</td>\n",
       "      <td>-0.763938</td>\n",
       "      <td>-0.984596</td>\n",
       "      <td>-0.670305</td>\n",
       "      <td>-0.059140</td>\n",
       "      <td>-2.134855</td>\n",
       "      <td>-1.424134</td>\n",
       "      <td>...</td>\n",
       "      <td>6.868963</td>\n",
       "      <td>-93.112195</td>\n",
       "      <td>40.430078</td>\n",
       "      <td>30.558172</td>\n",
       "      <td>17.052980</td>\n",
       "      <td>210.242294</td>\n",
       "      <td>51.236181</td>\n",
       "      <td>-0.069524</td>\n",
       "      <td>38.885051</td>\n",
       "      <td>-123.910723</td>\n",
       "    </tr>\n",
       "    <tr>\n",
       "      <th>4</th>\n",
       "      <td>-0.190339</td>\n",
       "      <td>-0.213754</td>\n",
       "      <td>-0.222596</td>\n",
       "      <td>-0.603639</td>\n",
       "      <td>-0.198699</td>\n",
       "      <td>-0.415371</td>\n",
       "      <td>-0.580724</td>\n",
       "      <td>0.099066</td>\n",
       "      <td>-1.435642</td>\n",
       "      <td>-0.581385</td>\n",
       "      <td>...</td>\n",
       "      <td>-23.435990</td>\n",
       "      <td>-4.659819</td>\n",
       "      <td>83.130440</td>\n",
       "      <td>54.792708</td>\n",
       "      <td>7.949994</td>\n",
       "      <td>154.510681</td>\n",
       "      <td>-195.610021</td>\n",
       "      <td>159.858877</td>\n",
       "      <td>28.166299</td>\n",
       "      <td>20.645631</td>\n",
       "    </tr>\n",
       "  </tbody>\n",
       "</table>\n",
       "<p>5 rows × 1000 columns</p>\n",
       "</div>"
      ],
      "text/plain": [
       "     feat_1  extra_feat_0.1  extra_feat_0.2  extra_feat_0.3  extra_feat_0.4  \\\n",
       "0 -1.430141       -1.380470       -1.713216       -1.322805       -1.761739   \n",
       "1  0.334457        0.320630        0.250328        0.502692        0.110384   \n",
       "2  0.456753        0.521522        0.388210        0.781669        0.755671   \n",
       "3 -1.008086       -0.855783       -1.168542       -0.691946       -0.763938   \n",
       "4 -0.190339       -0.213754       -0.222596       -0.603639       -0.198699   \n",
       "\n",
       "   extra_feat_0.5  extra_feat_0.6  extra_feat_0.7  extra_feat_0.8  \\\n",
       "0       -2.227355       -0.874435       -0.900249       -1.848320   \n",
       "1        0.034769        1.480107       -0.311059        1.173664   \n",
       "2        0.459375       -0.382387        1.065477       -0.106722   \n",
       "3       -0.984596       -0.670305       -0.059140       -2.134855   \n",
       "4       -0.415371       -0.580724        0.099066       -1.435642   \n",
       "\n",
       "   extra_feat_0.9  ...  extra_feat_99.0  extra_feat_99.1  extra_feat_99.2  \\\n",
       "0       -0.585686  ...       -16.410693       132.958593       -59.340571   \n",
       "1       -0.129983  ...       120.855711       -53.180326        70.983942   \n",
       "2        0.543262  ...       -30.632225        -2.604814       -16.739401   \n",
       "3       -1.424134  ...         6.868963       -93.112195        40.430078   \n",
       "4       -0.581385  ...       -23.435990        -4.659819        83.130440   \n",
       "\n",
       "   extra_feat_99.3  extra_feat_99.4  extra_feat_99.5  extra_feat_99.6  \\\n",
       "0       116.009787       124.543760        10.551120       152.564366   \n",
       "1       -21.042826       -26.182561        18.525961       -33.720954   \n",
       "2        61.474768       -34.929109        33.141811        93.648414   \n",
       "3        30.558172        17.052980       210.242294        51.236181   \n",
       "4        54.792708         7.949994       154.510681      -195.610021   \n",
       "\n",
       "   extra_feat_99.7  extra_feat_99.8  extra_feat_99.9  \n",
       "0       -61.512927      -140.535863         8.614412  \n",
       "1        31.396577       -54.510255       -13.804461  \n",
       "2      -104.677020        72.013321      -120.111356  \n",
       "3        -0.069524        38.885051      -123.910723  \n",
       "4       159.858877        28.166299        20.645631  \n",
       "\n",
       "[5 rows x 1000 columns]"
      ]
     },
     "execution_count": 10,
     "metadata": {},
     "output_type": "execute_result"
    }
   ],
   "source": [
    "new_feat_df.head()"
   ]
  },
  {
   "cell_type": "markdown",
   "id": "modified-tracy",
   "metadata": {},
   "source": [
    "## Show the fit and r2-score of the original data frame without the extra noise based feature"
   ]
  },
  {
   "cell_type": "code",
   "execution_count": 11,
   "id": "indian-familiar",
   "metadata": {},
   "outputs": [],
   "source": [
    "X = df.filter(regex=\"feat\")\n",
    "y = df[\"target\"]"
   ]
  },
  {
   "cell_type": "code",
   "execution_count": 12,
   "id": "similar-importance",
   "metadata": {},
   "outputs": [],
   "source": [
    "X_train, X_test, y_train, y_test = train_test_split(X, y, test_size=0.2, random_state=42)"
   ]
  },
  {
   "cell_type": "code",
   "execution_count": 13,
   "id": "electric-allah",
   "metadata": {},
   "outputs": [],
   "source": [
    "model = LinearRegression()"
   ]
  },
  {
   "cell_type": "code",
   "execution_count": 14,
   "id": "iraqi-tennis",
   "metadata": {},
   "outputs": [],
   "source": [
    "_ = model.fit(X_train, y_train)"
   ]
  },
  {
   "cell_type": "code",
   "execution_count": 15,
   "id": "western-herald",
   "metadata": {},
   "outputs": [],
   "source": [
    "y_pred = model.predict(X_test)"
   ]
  },
  {
   "cell_type": "code",
   "execution_count": 16,
   "id": "incomplete-texture",
   "metadata": {},
   "outputs": [
    {
     "data": {
      "image/png": "[encoded data removed]",
      "text/plain": [
       "<Figure size 432x288 with 1 Axes>"
      ]
     },
     "metadata": {
      "needs_background": "light"
     },
     "output_type": "display_data"
    }
   ],
   "source": [
    "_ = sns.regplot(x=y_test, y=y_pred)\n",
    "_ = plt.text(x=150, y=-200, s=f\"r_square = {round(r2_score(y_test, y_pred), 3)}\")"
   ]
  },
  {
   "cell_type": "code",
   "execution_count": 17,
   "id": "generous-playing",
   "metadata": {},
   "outputs": [],
   "source": [
    "original_r2_score = r2_score(y_test, y_pred)"
   ]
  },
  {
   "cell_type": "markdown",
   "id": "reasonable-daughter",
   "metadata": {},
   "source": [
    "## Run the same regression as above but with a different noise feature added each time \n",
    "(thus seeing how adding a different feature with more or less noise effects the r2 score of the model)"
   ]
  },
  {
   "cell_type": "code",
   "execution_count": 18,
   "id": "increased-internet",
   "metadata": {},
   "outputs": [],
   "source": [
    "noise_features_list = new_feat_df.drop(edit_feature, axis=1).columns.tolist()"
   ]
  },
  {
   "cell_type": "code",
   "execution_count": 19,
   "id": "surgical-blade",
   "metadata": {},
   "outputs": [],
   "source": [
    "all_r2_df = pd.DataFrame()\n",
    "for noise_feat in noise_features_list:\n",
    "    \n",
    "    X = df.filter(regex=\"feat\")\n",
    "    X = pd.concat([X, new_feat_df[[noise_feat]]], axis=1)\n",
    "    y = df[\"target\"]\n",
    "    \n",
    "    X_train, X_test, y_train, y_test = train_test_split(X, y, test_size=0.2, random_state=42)\n",
    "\n",
    "    model = LinearRegression()\n",
    "\n",
    "    _ = model.fit(X_train, y_train)\n",
    "\n",
    "    y_pred = model.predict(X_test)\n",
    "    \n",
    "    current_r2_df = pd.DataFrame({\"added_feature\": noise_feat,\n",
    "                                  \"noise_std\": float(noise_feat[-3:]),\n",
    "                                  \"r2\": r2_score(y_test, y_pred)}, index=[0])\n",
    "    all_r2_df = pd.concat([all_r2_df, current_r2_df])"
   ]
  },
  {
   "cell_type": "markdown",
   "id": "green-sterling",
   "metadata": {},
   "source": [
    "## Show an example of one of the X's to compare to the initial data frame used to get the initial r2 score shown above in the scatter plot"
   ]
  },
  {
   "cell_type": "code",
   "execution_count": 20,
   "id": "destroyed-philadelphia",
   "metadata": {},
   "outputs": [
    {
     "data": {
      "text/html": [
       "<div>\n",
       "<style scoped>\n",
       "    .dataframe tbody tr th:only-of-type {\n",
       "        vertical-align: middle;\n",
       "    }\n",
       "\n",
       "    .dataframe tbody tr th {\n",
       "        vertical-align: top;\n",
       "    }\n",
       "\n",
       "    .dataframe thead th {\n",
       "        text-align: right;\n",
       "    }\n",
       "</style>\n",
       "<table border=\"1\" class=\"dataframe\">\n",
       "  <thead>\n",
       "    <tr style=\"text-align: right;\">\n",
       "      <th></th>\n",
       "      <th>feat_0</th>\n",
       "      <th>feat_1</th>\n",
       "      <th>feat_2</th>\n",
       "      <th>feat_3</th>\n",
       "      <th>feat_4</th>\n",
       "      <th>feat_5</th>\n",
       "      <th>feat_6</th>\n",
       "      <th>feat_7</th>\n",
       "      <th>feat_8</th>\n",
       "      <th>feat_9</th>\n",
       "    </tr>\n",
       "  </thead>\n",
       "  <tbody>\n",
       "    <tr>\n",
       "      <th>0</th>\n",
       "      <td>-0.92693</td>\n",
       "      <td>-1.430141</td>\n",
       "      <td>1.632411</td>\n",
       "      <td>-3.241267</td>\n",
       "      <td>-1.247783</td>\n",
       "      <td>-1.024388</td>\n",
       "      <td>0.130741</td>\n",
       "      <td>-0.059525</td>\n",
       "      <td>-0.252568</td>\n",
       "      <td>-0.440044</td>\n",
       "    </tr>\n",
       "  </tbody>\n",
       "</table>\n",
       "</div>"
      ],
      "text/plain": [
       "    feat_0    feat_1    feat_2    feat_3    feat_4    feat_5    feat_6  \\\n",
       "0 -0.92693 -1.430141  1.632411 -3.241267 -1.247783 -1.024388  0.130741   \n",
       "\n",
       "     feat_7    feat_8    feat_9  \n",
       "0 -0.059525 -0.252568 -0.440044  "
      ]
     },
     "execution_count": 20,
     "metadata": {},
     "output_type": "execute_result"
    }
   ],
   "source": [
    "df.filter(regex=\"feat\").head(1)"
   ]
  },
  {
   "cell_type": "code",
   "execution_count": 21,
   "id": "given-disposal",
   "metadata": {},
   "outputs": [
    {
     "data": {
      "text/html": [
       "<div>\n",
       "<style scoped>\n",
       "    .dataframe tbody tr th:only-of-type {\n",
       "        vertical-align: middle;\n",
       "    }\n",
       "\n",
       "    .dataframe tbody tr th {\n",
       "        vertical-align: top;\n",
       "    }\n",
       "\n",
       "    .dataframe thead th {\n",
       "        text-align: right;\n",
       "    }\n",
       "</style>\n",
       "<table border=\"1\" class=\"dataframe\">\n",
       "  <thead>\n",
       "    <tr style=\"text-align: right;\">\n",
       "      <th></th>\n",
       "      <th>feat_0</th>\n",
       "      <th>feat_1</th>\n",
       "      <th>feat_2</th>\n",
       "      <th>feat_3</th>\n",
       "      <th>feat_4</th>\n",
       "      <th>feat_5</th>\n",
       "      <th>feat_6</th>\n",
       "      <th>feat_7</th>\n",
       "      <th>feat_8</th>\n",
       "      <th>feat_9</th>\n",
       "      <th>extra_feat_99.9</th>\n",
       "    </tr>\n",
       "  </thead>\n",
       "  <tbody>\n",
       "    <tr>\n",
       "      <th>0</th>\n",
       "      <td>-0.92693</td>\n",
       "      <td>-1.430141</td>\n",
       "      <td>1.632411</td>\n",
       "      <td>-3.241267</td>\n",
       "      <td>-1.247783</td>\n",
       "      <td>-1.024388</td>\n",
       "      <td>0.130741</td>\n",
       "      <td>-0.059525</td>\n",
       "      <td>-0.252568</td>\n",
       "      <td>-0.440044</td>\n",
       "      <td>8.614412</td>\n",
       "    </tr>\n",
       "  </tbody>\n",
       "</table>\n",
       "</div>"
      ],
      "text/plain": [
       "    feat_0    feat_1    feat_2    feat_3    feat_4    feat_5    feat_6  \\\n",
       "0 -0.92693 -1.430141  1.632411 -3.241267 -1.247783 -1.024388  0.130741   \n",
       "\n",
       "     feat_7    feat_8    feat_9  extra_feat_99.9  \n",
       "0 -0.059525 -0.252568 -0.440044         8.614412  "
      ]
     },
     "execution_count": 21,
     "metadata": {},
     "output_type": "execute_result"
    }
   ],
   "source": [
    "X.head(1)"
   ]
  },
  {
   "cell_type": "markdown",
   "id": "outstanding-vault",
   "metadata": {},
   "source": [
    "## Plot all the r2 scores"
   ]
  },
  {
   "cell_type": "code",
   "execution_count": 22,
   "id": "studied-treatment",
   "metadata": {},
   "outputs": [
    {
     "data": {
      "image/png": "[encoded data removed]",
      "text/plain": [
       "<Figure size 432x288 with 1 Axes>"
      ]
     },
     "metadata": {
      "needs_background": "light"
     },
     "output_type": "display_data"
    }
   ],
   "source": [
    "_ = sns.scatterplot(data=all_r2_df, x=\"noise_std\", y=\"r2\")\n",
    "_ = sns.lineplot(data=all_r2_df, x=\"noise_std\", y=\"r2\")\n",
    "_ = plt.axhline(y=original_r2_score, c=\"red\", label=\"Original r2 score, before adding an extra feature\")\n",
    "_ = plt.legend()"
   ]
  },
  {
   "cell_type": "markdown",
   "id": "subjective-envelope",
   "metadata": {},
   "source": [
    "## Initial multiple choice question:"
   ]
  },
  {
   "cell_type": "markdown",
   "id": "occupational-seating",
   "metadata": {},
   "source": [
    "Adding a non-important feature to a linear regression model may result in: \n",
    "1. Increase in R-square \n",
    "2. Decrease in R-square \n",
    "\n",
    "Answer: Only 1 is correct"
   ]
  },
  {
   "cell_type": "markdown",
   "id": "bizarre-halloween",
   "metadata": {},
   "source": [
    "## Based on the r2 vs noise_std plot it seems like the answer hinges on how one defines \"non-important to the model\"."
   ]
  },
  {
   "cell_type": "markdown",
   "id": "pediatric-modification",
   "metadata": {},
   "source": [
    "#### So whilst in theory - based on the formula used to calculate the r2 score - adding an extra feature should always increase the r-squared score - hence the need for adjusted r-squareds, it actually hinges on what is considered \"non-important\". Hence I would suggest rewording the multiple choice question to reflect this somehow."
   ]
  }
 ],
 "metadata": {
  "kernelspec": {
   "display_name": "general",
   "language": "python",
   "name": "general"
  },
  "language_info": {
   "codemirror_mode": {
    "name": "ipython",
    "version": 3
   },
   "file_extension": ".py",
   "mimetype": "text/x-python",
   "name": "python",
   "nbconvert_exporter": "python",
   "pygments_lexer": "ipython3",
   "version": "3.9.2"
  }
 },
 "nbformat": 4,
 "nbformat_minor": 5
}
