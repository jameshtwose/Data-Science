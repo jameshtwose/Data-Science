{
 "cells": [
  {
   "cell_type": "markdown",
   "id": "c3b21324-acf1-44bc-8f95-d407ead7927f",
   "metadata": {},
   "source": [
    "# Mail scraping using imapclient"
   ]
  },
  {
   "cell_type": "markdown",
   "id": "dbd4934c-1e8e-4c42-8376-6fb7dd429a9c",
   "metadata": {},
   "source": [
    "__In this notebook I will be using the python package `IMAPClient` to scrape my emails from amazon, and `seaborn` to plot the amount of money I have spent on amazon over time.__"
   ]
  },
  {
   "cell_type": "code",
   "execution_count": 1,
   "id": "156f8a62-6c3c-467a-974c-7db08cb35a78",
   "metadata": {},
   "outputs": [],
   "source": [
    "from imapclient import IMAPClient\n",
    "import email\n",
    "from dotenv import load_dotenv, find_dotenv\n",
    "import os\n",
    "import io\n",
    "import pandas as pd\n",
    "import seaborn as sns\n",
    "import matplotlib.pyplot as plt"
   ]
  },
  {
   "cell_type": "code",
   "execution_count": 2,
   "id": "aecb3cc1-3603-4cbe-93f3-4c6fafa507fe",
   "metadata": {},
   "outputs": [],
   "source": [
    "if \"jms_style_sheet\" in plt.style.available:\n",
    "    plt.style.use(\"jms_style_sheet\")"
   ]
  },
  {
   "cell_type": "code",
   "execution_count": 3,
   "id": "536b3661-bac6-4b92-bd27-de023b99aea4",
   "metadata": {},
   "outputs": [
    {
     "data": {
      "text/plain": [
       "True"
      ]
     },
     "execution_count": 3,
     "metadata": {},
     "output_type": "execute_result"
    }
   ],
   "source": [
    "load_dotenv(find_dotenv())"
   ]
  },
  {
   "cell_type": "code",
   "execution_count": 4,
   "id": "fd5379a5-d54a-413b-ac33-dfc104961de5",
   "metadata": {},
   "outputs": [
    {
     "data": {
      "text/plain": [
       "b'james.twose2711@gmail.com authenticated (Success)'"
      ]
     },
     "execution_count": 4,
     "metadata": {},
     "output_type": "execute_result"
    }
   ],
   "source": [
    "server = IMAPClient(host='imap.gmail.com', \n",
    "                    ssl=True,\n",
    "                    port=993,\n",
    "                    use_uid=True)\n",
    "server.login(os.environ[\"mail_username\"], os.environ[\"mail_pass_app_specific\"])"
   ]
  },
  {
   "cell_type": "code",
   "execution_count": 5,
   "id": "3f7f590b-dfb1-459c-9525-f060eaa34c1d",
   "metadata": {},
   "outputs": [
    {
     "name": "stdout",
     "output_type": "stream",
     "text": [
      "27209 messages in INBOX\n"
     ]
    }
   ],
   "source": [
    "select_info = server.select_folder('INBOX')\n",
    "print('%d messages in INBOX' % select_info[b'EXISTS'])"
   ]
  },
  {
   "cell_type": "code",
   "execution_count": 6,
   "id": "2476a16f-69d0-41f8-a329-bd01b4e590d6",
   "metadata": {},
   "outputs": [
    {
     "name": "stdout",
     "output_type": "stream",
     "text": [
      "18 messages from Amazon purchases\n"
     ]
    }
   ],
   "source": [
    "messages = server.search(['FROM', 'auto-bevestiging@amazon.nl'])\n",
    "print(\"%d messages from Amazon purchases\" % len(messages))"
   ]
  },
  {
   "cell_type": "code",
   "execution_count": 7,
   "id": "b05c756a-6ea9-45ca-b731-b04aad4c0603",
   "metadata": {},
   "outputs": [],
   "source": [
    "df = pd.DataFrame()\n",
    "for msgid, data in server.fetch(messages, ['ENVELOPE']).items():\n",
    "    envelope = data[b'ENVELOPE']\n",
    "    # print('ID #%d: \"%s\" received %s' % (msgid, envelope.subject.decode(), envelope.date))\n",
    "    tmp_df = pd.DataFrame({\n",
    "    \"msgID\": msgid,\n",
    "    \"subject\": envelope.subject.decode(),\n",
    "    \"date_recieved\": envelope.date\n",
    "             }, index=[0])\n",
    "    df = pd.concat([df, tmp_df])"
   ]
  },
  {
   "cell_type": "code",
   "execution_count": 8,
   "id": "d921de0d-6d78-4c33-ae80-d2f67ed37626",
   "metadata": {},
   "outputs": [],
   "source": [
    "_ = df.reset_index(inplace=True, drop=True)"
   ]
  },
  {
   "cell_type": "code",
   "execution_count": 9,
   "id": "4715e4c1-d18e-4422-bd27-9a54c899ed0d",
   "metadata": {},
   "outputs": [],
   "source": [
    "response = server.fetch(messages, ['RFC822', 'BODY[TEXT]'])"
   ]
  },
  {
   "cell_type": "code",
   "execution_count": 10,
   "id": "4ed34938-e24e-4405-a1c4-be9d1a92371e",
   "metadata": {
    "tags": []
   },
   "outputs": [],
   "source": [
    "body_df = pd.DataFrame()\n",
    "price_search_term = \"Order Total:                     EUR \"\n",
    "\n",
    "for msgid, data in response.items():\n",
    "    parsedEmail = email.message_from_string(data[b'RFC822'].decode(\"utf-8\") )\n",
    "    body = email.message_from_string(data[b'BODY[TEXT]'].decode(\"utf-8\"))\n",
    "    parsedBody = parsedEmail.get_payload(0)\n",
    "    # print(parsedBody)\n",
    "\n",
    "    for part in parsedBody.walk():\n",
    "        if part.get_content_type() == \"text/plain\":\n",
    "            # print(part)\n",
    "            body_str = str(part)\n",
    "            if body_str.find(price_search_term) > 0:\n",
    "                price = float(body_str.split(price_search_term)[1].split(\"\\n\")[0].replace(\",\", \".\"))\n",
    "            elif body_str.find(\"Totaal bestelling inclusief btw:     EUR \") > 0:\n",
    "                price = float(body_str.split(\"Totaal bestelling inclusief btw:     EUR \")[1].split(\"\\n\")[0].replace(\",\", \".\"))\n",
    "            elif body_str.find(\"Totaal bestelling inclusief btw: EUR \") > 0:\n",
    "                price = float(body_str.split(\"Totaal bestelling inclusief btw: EUR \")[1].split(\"\\n\")[0].replace(\",\", \".\"))\n",
    "            else:\n",
    "                price = float(body_str.split(\"Besteltotaal:    EUR \")[1].split(\"\\n\")[0].replace(\",\", \".\"))\n",
    "            tmp_df = pd.DataFrame({\n",
    "                \"msgID\": msgid,\n",
    "                \"message_body\": body_str,\n",
    "                \"price\": price,\n",
    "             }, index=[0])\n",
    "            body_df = pd.concat([body_df, tmp_df])"
   ]
  },
  {
   "cell_type": "code",
   "execution_count": 11,
   "id": "3b38c3a1-7f8a-4d09-8804-969e0d1150d3",
   "metadata": {},
   "outputs": [],
   "source": [
    "_ = body_df.reset_index(inplace=True, drop=True)"
   ]
  },
  {
   "cell_type": "code",
   "execution_count": 12,
   "id": "cdf75252-b26f-4bed-9048-797bc3fce9e0",
   "metadata": {},
   "outputs": [],
   "source": [
    "plot_df = pd.merge(df, body_df, on = \"msgID\")"
   ]
  },
  {
   "cell_type": "code",
   "execution_count": 13,
   "id": "5c5933cc-2816-491d-91e5-380773ab1138",
   "metadata": {},
   "outputs": [
    {
     "data": {
      "text/plain": [
       "b'LOGOUT Requested'"
      ]
     },
     "execution_count": 13,
     "metadata": {},
     "output_type": "execute_result"
    }
   ],
   "source": [
    "server.logout()"
   ]
  },
  {
   "cell_type": "code",
   "execution_count": 14,
   "id": "00aa41d8-5b18-4c31-b3cf-11e49cd604f6",
   "metadata": {
    "tags": []
   },
   "outputs": [
    {
     "data": {
      "text/html": [
       "<div>\n",
       "<style scoped>\n",
       "    .dataframe tbody tr th:only-of-type {\n",
       "        vertical-align: middle;\n",
       "    }\n",
       "\n",
       "    .dataframe tbody tr th {\n",
       "        vertical-align: top;\n",
       "    }\n",
       "\n",
       "    .dataframe thead th {\n",
       "        text-align: right;\n",
       "    }\n",
       "</style>\n",
       "<table border=\"1\" class=\"dataframe\">\n",
       "  <thead>\n",
       "    <tr style=\"text-align: right;\">\n",
       "      <th></th>\n",
       "      <th>msgID</th>\n",
       "      <th>subject</th>\n",
       "      <th>date_recieved</th>\n",
       "      <th>message_body</th>\n",
       "      <th>price</th>\n",
       "    </tr>\n",
       "  </thead>\n",
       "  <tbody>\n",
       "    <tr>\n",
       "      <th>0</th>\n",
       "      <td>21108</td>\n",
       "      <td>Je Amazon.nl-bestelling van \"Silentnight 3-zon...</td>\n",
       "      <td>2020-03-15 23:02:02</td>\n",
       "      <td>Content-Type: text/plain; charset=utf-8\\nConte...</td>\n",
       "      <td>238.16</td>\n",
       "    </tr>\n",
       "    <tr>\n",
       "      <th>1</th>\n",
       "      <td>24128</td>\n",
       "      <td>Je bestelling bij Amazon.nl met bestelnr. 405-...</td>\n",
       "      <td>2020-09-04 13:24:06</td>\n",
       "      <td>Content-Type: text/plain; charset=utf-8\\nConte...</td>\n",
       "      <td>17.48</td>\n",
       "    </tr>\n",
       "    <tr>\n",
       "      <th>2</th>\n",
       "      <td>24401</td>\n",
       "      <td>Je bestelling bij Amazon.nl met bestelnr. 407-...</td>\n",
       "      <td>2020-09-17 17:34:10</td>\n",
       "      <td>Content-Type: text/plain; charset=utf-8\\nConte...</td>\n",
       "      <td>37.00</td>\n",
       "    </tr>\n",
       "    <tr>\n",
       "      <th>3</th>\n",
       "      <td>24435</td>\n",
       "      <td>Je bestelling bij Amazon.nl met bestelnr. 407-...</td>\n",
       "      <td>2020-09-18 15:50:10</td>\n",
       "      <td>Content-Type: text/plain; charset=utf-8\\nConte...</td>\n",
       "      <td>22.30</td>\n",
       "    </tr>\n",
       "    <tr>\n",
       "      <th>4</th>\n",
       "      <td>26195</td>\n",
       "      <td>Je bestelling bij Amazon.nl met bestelnr. 407-...</td>\n",
       "      <td>2020-12-04 22:47:27</td>\n",
       "      <td>Content-Type: text/plain; charset=utf-8\\nConte...</td>\n",
       "      <td>23.99</td>\n",
       "    </tr>\n",
       "    <tr>\n",
       "      <th>5</th>\n",
       "      <td>26800</td>\n",
       "      <td>Je bestelling bij Amazon.nl met bestelnr. 407-...</td>\n",
       "      <td>2020-12-29 00:01:45</td>\n",
       "      <td>Content-Type: text/plain; charset=utf-8\\nConte...</td>\n",
       "      <td>58.97</td>\n",
       "    </tr>\n",
       "    <tr>\n",
       "      <th>6</th>\n",
       "      <td>26936</td>\n",
       "      <td>Je bestelling bij Amazon.nl met bestelnr. 403-...</td>\n",
       "      <td>2021-01-03 21:05:51</td>\n",
       "      <td>Content-Type: text/plain; charset=utf-8\\nConte...</td>\n",
       "      <td>124.99</td>\n",
       "    </tr>\n",
       "    <tr>\n",
       "      <th>7</th>\n",
       "      <td>27910</td>\n",
       "      <td>Je bestelling bij Amazon.nl met bestelnr. 406-...</td>\n",
       "      <td>2021-02-06 18:13:37</td>\n",
       "      <td>Content-Type: text/plain; charset=utf-8\\nConte...</td>\n",
       "      <td>203.35</td>\n",
       "    </tr>\n",
       "    <tr>\n",
       "      <th>8</th>\n",
       "      <td>28416</td>\n",
       "      <td>Je bestelling bij Amazon.nl met bestelnr. 406-...</td>\n",
       "      <td>2021-02-24 20:55:29</td>\n",
       "      <td>Content-Type: text/plain; charset=utf-8\\nConte...</td>\n",
       "      <td>26.44</td>\n",
       "    </tr>\n",
       "    <tr>\n",
       "      <th>9</th>\n",
       "      <td>28428</td>\n",
       "      <td>Je bestelling bij Amazon.nl met bestelnr. 406-...</td>\n",
       "      <td>2021-02-25 09:31:36</td>\n",
       "      <td>Content-Type: text/plain; charset=utf-8\\nConte...</td>\n",
       "      <td>45.50</td>\n",
       "    </tr>\n",
       "    <tr>\n",
       "      <th>10</th>\n",
       "      <td>30531</td>\n",
       "      <td>Je bestelling bij Amazon.nl met bestelnr. 408-...</td>\n",
       "      <td>2021-05-09 17:07:48</td>\n",
       "      <td>Content-Type: text/plain; charset=utf-8\\nConte...</td>\n",
       "      <td>33.74</td>\n",
       "    </tr>\n",
       "    <tr>\n",
       "      <th>11</th>\n",
       "      <td>30951</td>\n",
       "      <td>Your Amazon.nl order #403-5227321-0273158 of 2...</td>\n",
       "      <td>2021-05-23 09:31:32</td>\n",
       "      <td>Content-Type: text/plain; charset=utf-8\\nConte...</td>\n",
       "      <td>29.98</td>\n",
       "    </tr>\n",
       "    <tr>\n",
       "      <th>12</th>\n",
       "      <td>32519</td>\n",
       "      <td>Your Amazon.nl order of \"Zonsondergang Lamp - ...</td>\n",
       "      <td>2021-07-10 22:18:45</td>\n",
       "      <td>Content-Type: text/plain; charset=utf-8\\nConte...</td>\n",
       "      <td>22.91</td>\n",
       "    </tr>\n",
       "    <tr>\n",
       "      <th>13</th>\n",
       "      <td>32719</td>\n",
       "      <td>Your Amazon.nl order of 5 x \"Pflanzwerk Bodemv...</td>\n",
       "      <td>2021-07-18 09:32:34</td>\n",
       "      <td>Content-Type: text/plain; charset=utf-8\\nConte...</td>\n",
       "      <td>50.35</td>\n",
       "    </tr>\n",
       "    <tr>\n",
       "      <th>14</th>\n",
       "      <td>33929</td>\n",
       "      <td>Your Amazon.nl order of \"Thorntons Classic...\"...</td>\n",
       "      <td>2021-09-03 15:21:31</td>\n",
       "      <td>Content-Type: text/plain; charset=utf-8\\nConte...</td>\n",
       "      <td>10.48</td>\n",
       "    </tr>\n",
       "    <tr>\n",
       "      <th>15</th>\n",
       "      <td>34279</td>\n",
       "      <td>Your Amazon.nl order of \"Agar Agar Poeder - 20...</td>\n",
       "      <td>2021-09-16 21:00:20</td>\n",
       "      <td>Content-Type: text/plain; charset=utf-8\\nConte...</td>\n",
       "      <td>33.35</td>\n",
       "    </tr>\n",
       "    <tr>\n",
       "      <th>16</th>\n",
       "      <td>34463</td>\n",
       "      <td>=?UTF-8?Q?Your_Amazon.nl_order_of_\"Nescaf=C3=A...</td>\n",
       "      <td>2021-09-23 07:43:59</td>\n",
       "      <td>Content-Type: text/plain; charset=utf-8\\nConte...</td>\n",
       "      <td>7.73</td>\n",
       "    </tr>\n",
       "    <tr>\n",
       "      <th>17</th>\n",
       "      <td>35568</td>\n",
       "      <td>Your Amazon.nl order of \"Martins Chocolatier.....</td>\n",
       "      <td>2021-10-31 13:45:35</td>\n",
       "      <td>Content-Type: text/plain; charset=utf-8\\nConte...</td>\n",
       "      <td>26.90</td>\n",
       "    </tr>\n",
       "  </tbody>\n",
       "</table>\n",
       "</div>"
      ],
      "text/plain": [
       "    msgID                                            subject  \\\n",
       "0   21108  Je Amazon.nl-bestelling van \"Silentnight 3-zon...   \n",
       "1   24128  Je bestelling bij Amazon.nl met bestelnr. 405-...   \n",
       "2   24401  Je bestelling bij Amazon.nl met bestelnr. 407-...   \n",
       "3   24435  Je bestelling bij Amazon.nl met bestelnr. 407-...   \n",
       "4   26195  Je bestelling bij Amazon.nl met bestelnr. 407-...   \n",
       "5   26800  Je bestelling bij Amazon.nl met bestelnr. 407-...   \n",
       "6   26936  Je bestelling bij Amazon.nl met bestelnr. 403-...   \n",
       "7   27910  Je bestelling bij Amazon.nl met bestelnr. 406-...   \n",
       "8   28416  Je bestelling bij Amazon.nl met bestelnr. 406-...   \n",
       "9   28428  Je bestelling bij Amazon.nl met bestelnr. 406-...   \n",
       "10  30531  Je bestelling bij Amazon.nl met bestelnr. 408-...   \n",
       "11  30951  Your Amazon.nl order #403-5227321-0273158 of 2...   \n",
       "12  32519  Your Amazon.nl order of \"Zonsondergang Lamp - ...   \n",
       "13  32719  Your Amazon.nl order of 5 x \"Pflanzwerk Bodemv...   \n",
       "14  33929  Your Amazon.nl order of \"Thorntons Classic...\"...   \n",
       "15  34279  Your Amazon.nl order of \"Agar Agar Poeder - 20...   \n",
       "16  34463  =?UTF-8?Q?Your_Amazon.nl_order_of_\"Nescaf=C3=A...   \n",
       "17  35568  Your Amazon.nl order of \"Martins Chocolatier.....   \n",
       "\n",
       "         date_recieved                                       message_body  \\\n",
       "0  2020-03-15 23:02:02  Content-Type: text/plain; charset=utf-8\\nConte...   \n",
       "1  2020-09-04 13:24:06  Content-Type: text/plain; charset=utf-8\\nConte...   \n",
       "2  2020-09-17 17:34:10  Content-Type: text/plain; charset=utf-8\\nConte...   \n",
       "3  2020-09-18 15:50:10  Content-Type: text/plain; charset=utf-8\\nConte...   \n",
       "4  2020-12-04 22:47:27  Content-Type: text/plain; charset=utf-8\\nConte...   \n",
       "5  2020-12-29 00:01:45  Content-Type: text/plain; charset=utf-8\\nConte...   \n",
       "6  2021-01-03 21:05:51  Content-Type: text/plain; charset=utf-8\\nConte...   \n",
       "7  2021-02-06 18:13:37  Content-Type: text/plain; charset=utf-8\\nConte...   \n",
       "8  2021-02-24 20:55:29  Content-Type: text/plain; charset=utf-8\\nConte...   \n",
       "9  2021-02-25 09:31:36  Content-Type: text/plain; charset=utf-8\\nConte...   \n",
       "10 2021-05-09 17:07:48  Content-Type: text/plain; charset=utf-8\\nConte...   \n",
       "11 2021-05-23 09:31:32  Content-Type: text/plain; charset=utf-8\\nConte...   \n",
       "12 2021-07-10 22:18:45  Content-Type: text/plain; charset=utf-8\\nConte...   \n",
       "13 2021-07-18 09:32:34  Content-Type: text/plain; charset=utf-8\\nConte...   \n",
       "14 2021-09-03 15:21:31  Content-Type: text/plain; charset=utf-8\\nConte...   \n",
       "15 2021-09-16 21:00:20  Content-Type: text/plain; charset=utf-8\\nConte...   \n",
       "16 2021-09-23 07:43:59  Content-Type: text/plain; charset=utf-8\\nConte...   \n",
       "17 2021-10-31 13:45:35  Content-Type: text/plain; charset=utf-8\\nConte...   \n",
       "\n",
       "     price  \n",
       "0   238.16  \n",
       "1    17.48  \n",
       "2    37.00  \n",
       "3    22.30  \n",
       "4    23.99  \n",
       "5    58.97  \n",
       "6   124.99  \n",
       "7   203.35  \n",
       "8    26.44  \n",
       "9    45.50  \n",
       "10   33.74  \n",
       "11   29.98  \n",
       "12   22.91  \n",
       "13   50.35  \n",
       "14   10.48  \n",
       "15   33.35  \n",
       "16    7.73  \n",
       "17   26.90  "
      ]
     },
     "execution_count": 14,
     "metadata": {},
     "output_type": "execute_result"
    }
   ],
   "source": [
    "plot_df"
   ]
  },
  {
   "cell_type": "code",
   "execution_count": 15,
   "id": "ac18db1b-d331-48d2-96b4-556535491705",
   "metadata": {},
   "outputs": [
    {
     "name": "stdout",
     "output_type": "stream",
     "text": [
      "<class 'pandas.core.frame.DataFrame'>\n",
      "Int64Index: 18 entries, 0 to 17\n",
      "Data columns (total 5 columns):\n",
      " #   Column         Non-Null Count  Dtype         \n",
      "---  ------         --------------  -----         \n",
      " 0   msgID          18 non-null     int64         \n",
      " 1   subject        18 non-null     object        \n",
      " 2   date_recieved  18 non-null     datetime64[ns]\n",
      " 3   message_body   18 non-null     object        \n",
      " 4   price          18 non-null     float64       \n",
      "dtypes: datetime64[ns](1), float64(1), int64(1), object(2)\n",
      "memory usage: 864.0+ bytes\n"
     ]
    }
   ],
   "source": [
    "plot_df.info()"
   ]
  },
  {
   "cell_type": "code",
   "execution_count": 16,
   "id": "d2a62549-03a0-4be4-99c2-6d0275ef050b",
   "metadata": {},
   "outputs": [],
   "source": [
    "plot_df=plot_df.assign(**{\"Cumulative Price\": lambda d: d[\"price\"].cumsum()})"
   ]
  },
  {
   "cell_type": "code",
   "execution_count": 21,
   "id": "4c2dcc4c-2ec8-4b22-a265-7d9579728882",
   "metadata": {},
   "outputs": [],
   "source": [
    "# _ = plt.figure(figsize=(15, 6))\n",
    "# _ = sns.lineplot(data=plot_df,\n",
    "#                 x=\"date_recieved\",\n",
    "#                 y=\"price\")\n",
    "# _ = sns.scatterplot(data=plot_df,\n",
    "#                 x=\"date_recieved\",\n",
    "#                 y=\"price\")\n",
    "# _ = plt.title(\"The amount of money spent on amazon over time\")\n",
    "# _ = plt.xlabel(\"Date\")\n",
    "# _ = plt.ylabel(\"Price\")\n",
    "# _ = sns.despine()"
   ]
  },
  {
   "cell_type": "code",
   "execution_count": 20,
   "id": "7b81d22b-74f8-4a9c-88fa-8e2f4481c38c",
   "metadata": {},
   "outputs": [],
   "source": [
    "# _ = plt.figure(figsize=(15, 6))\n",
    "# _ = sns.lineplot(data=plot_df,\n",
    "#                 x=\"date_recieved\",\n",
    "#                 y=\"Cumulative Price\")\n",
    "# _ = sns.scatterplot(data=plot_df,\n",
    "#                 x=\"date_recieved\",\n",
    "#                 y=\"Cumulative Price\")\n",
    "# _ = plt.title(\"The cumulative sum of money spent on amazon over time\")\n",
    "# _ = plt.xlabel(\"Date\")\n",
    "# _ = sns.despine()"
   ]
  },
  {
   "cell_type": "code",
   "execution_count": 19,
   "id": "580c96a6-5768-4442-a8df-1b39ff6401d4",
   "metadata": {},
   "outputs": [
    {
     "data": {
      "image/png": "[encoded data removed]",
      "text/plain": [
       "<Figure size 1500x600 with 2 Axes>"
      ]
     },
     "metadata": {},
     "output_type": "display_data"
    }
   ],
   "source": [
    "_ = plt.figure(figsize=(15, 6))\n",
    "_ = sns.lineplot(data=plot_df,\n",
    "                x=\"date_recieved\",\n",
    "                y=\"price\",\n",
    "                color=\"navy\"\n",
    "                )\n",
    "_ = sns.scatterplot(data=plot_df,\n",
    "                x=\"date_recieved\",\n",
    "                y=\"price\",\n",
    "                    color=\"navy\"\n",
    "                   )\n",
    "_ = plt.title(\"The amount of money spent on amazon over time\")\n",
    "_ = plt.xlabel(\"Date\")\n",
    "_ = plt.ylabel(\"Price\")\n",
    "\n",
    "ax2 = plt.twinx()\n",
    "\n",
    "_ = sns.lineplot(data=plot_df,\n",
    "                x=\"date_recieved\",\n",
    "                y=\"Cumulative Price\",\n",
    "                 color=\"darkorange\",\n",
    "                ax=ax2)\n",
    "_ = sns.scatterplot(data=plot_df,\n",
    "                x=\"date_recieved\",\n",
    "                y=\"Cumulative Price\",\n",
    "                    color=\"darkorange\",\n",
    "                   ax=ax2)\n",
    "\n",
    "ax2.spines['left'].set_color(\"navy\")\n",
    "ax2.spines['left'].set_linewidth(1.5)\n",
    "ax2.spines['bottom'].set_color(\"navy\")\n",
    "ax2.spines['bottom'].set_linewidth(1.5)\n",
    "ax2.spines['right'].set_color(\"darkorange\")\n",
    "ax2.spines['right'].set_linewidth(1.5)\n",
    "ax2.spines['top'].set_color(\"darkorange\")\n",
    "ax2.spines['top'].set_linewidth(1.5)\n",
    "\n",
    "# _ = sns.despine()"
   ]
  }
 ],
 "metadata": {
  "kernelspec": {
   "display_name": "ds_env2",
   "language": "python",
   "name": "ds_env2"
  },
  "language_info": {
   "codemirror_mode": {
    "name": "ipython",
    "version": 3
   },
   "file_extension": ".py",
   "mimetype": "text/x-python",
   "name": "python",
   "nbconvert_exporter": "python",
   "pygments_lexer": "ipython3",
   "version": "3.9.7"
  }
 },
 "nbformat": 4,
 "nbformat_minor": 5
}
