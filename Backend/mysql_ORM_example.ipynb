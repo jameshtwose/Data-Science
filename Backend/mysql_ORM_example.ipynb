{
 "cells": [
  {
   "cell_type": "markdown",
   "id": "fd307dd3-db8c-41a5-a03e-c733e93a1a53",
   "metadata": {},
   "source": [
    "## MySQL example ORM (Object Relational Mapping)"
   ]
  },
  {
   "cell_type": "code",
   "execution_count": 4,
   "id": "5eb33b54-8464-4ee0-9b29-89a9159481e7",
   "metadata": {},
   "outputs": [],
   "source": [
    "import pandas as pd\n",
    "import numpy as np\n",
    "import matplotlib.pyplot as plt\n",
    "import seaborn as sns\n",
    "from dotenv import load_dotenv, find_dotenv\n",
    "import os"
   ]
  },
  {
   "cell_type": "code",
   "execution_count": 16,
   "id": "7437ccbd-bf45-409e-b194-c7ffb34bb2fc",
   "metadata": {},
   "outputs": [],
   "source": [
    "from sqlalchemy import create_engine\n",
    "from sqlalchemy.orm import Session\n",
    "from sqlalchemy import select"
   ]
  },
  {
   "cell_type": "code",
   "execution_count": 6,
   "id": "4517a87e-a126-44b2-88d0-060d466d3ec4",
   "metadata": {},
   "outputs": [],
   "source": [
    "_ = load_dotenv(find_dotenv())"
   ]
  },
  {
   "cell_type": "code",
   "execution_count": 28,
   "id": "6987ff31-911d-4dba-a0b1-856e95853226",
   "metadata": {},
   "outputs": [],
   "source": [
    "connect_string = f\"mysql+pymysql://{os.getenv('rfram_user')}:@{os.getenv('rfram_host')}/Rfam\""
   ]
  },
  {
   "cell_type": "code",
   "execution_count": 29,
   "id": "f23bbaac-53b4-4a23-b58d-c4079c731701",
   "metadata": {},
   "outputs": [],
   "source": [
    "# an Engine, which the Session will use for connection\n",
    "# resources\n",
    "engine = create_engine(url=connect_string)\n"
   ]
  },
  {
   "cell_type": "code",
   "execution_count": 33,
   "id": "8de1cb7f-745a-4c99-a76c-9d075111164e",
   "metadata": {},
   "outputs": [],
   "source": [
    "# username = ''\n",
    "# password = ''\n",
    "# host = 'localhost'\n",
    "# port = 3306\n",
    "# DB_NAME = 'db_name'\n",
    "\n",
    "# engine = create_engine(f\"mysql+pymysql://{username}:{password}@{host}:{port}\")\n",
    "\n",
    "# with engine.connect() as conn:\n",
    "#     # Do not substitute user-supplied database names here.\n",
    "#     conn.execute(f\"CREATE DATABASE IF NOT EXISTS {DB_NAME}\")"
   ]
  },
  {
   "cell_type": "code",
   "execution_count": 34,
   "id": "17c441db-5ac5-4135-a0a9-71b6a665d856",
   "metadata": {},
   "outputs": [],
   "source": [
    "# import the mysql client for python\n",
    "import pymysql"
   ]
  },
  {
   "cell_type": "code",
   "execution_count": 35,
   "id": "8b1cc0a1-1c03-44bd-8a60-7ad0424fe7ac",
   "metadata": {},
   "outputs": [
    {
     "ename": "OperationalError",
     "evalue": "(2003, \"Can't connect to MySQL server on '127.0.0.1' ([Errno 61] Connection refused)\")",
     "output_type": "error",
     "traceback": [
      "\u001b[0;31m---------------------------------------------------------------------------\u001b[0m",
      "\u001b[0;31mConnectionRefusedError\u001b[0m                    Traceback (most recent call last)",
      "\u001b[0;32m~/miniconda3/envs/ds_env/lib/python3.8/site-packages/pymysql/connections.py\u001b[0m in \u001b[0;36mconnect\u001b[0;34m(self, sock)\u001b[0m\n\u001b[1;32m    612\u001b[0m                         \u001b[0;32mtry\u001b[0m\u001b[0;34m:\u001b[0m\u001b[0;34m\u001b[0m\u001b[0;34m\u001b[0m\u001b[0m\n\u001b[0;32m--> 613\u001b[0;31m                             sock = socket.create_connection(\n\u001b[0m\u001b[1;32m    614\u001b[0m                                 \u001b[0;34m(\u001b[0m\u001b[0mself\u001b[0m\u001b[0;34m.\u001b[0m\u001b[0mhost\u001b[0m\u001b[0;34m,\u001b[0m \u001b[0mself\u001b[0m\u001b[0;34m.\u001b[0m\u001b[0mport\u001b[0m\u001b[0;34m)\u001b[0m\u001b[0;34m,\u001b[0m \u001b[0mself\u001b[0m\u001b[0;34m.\u001b[0m\u001b[0mconnect_timeout\u001b[0m\u001b[0;34m,\u001b[0m \u001b[0;34m**\u001b[0m\u001b[0mkwargs\u001b[0m\u001b[0;34m\u001b[0m\u001b[0;34m\u001b[0m\u001b[0m\n",
      "\u001b[0;32m~/miniconda3/envs/ds_env/lib/python3.8/socket.py\u001b[0m in \u001b[0;36mcreate_connection\u001b[0;34m(address, timeout, source_address)\u001b[0m\n\u001b[1;32m    807\u001b[0m         \u001b[0;32mtry\u001b[0m\u001b[0;34m:\u001b[0m\u001b[0;34m\u001b[0m\u001b[0;34m\u001b[0m\u001b[0m\n\u001b[0;32m--> 808\u001b[0;31m             \u001b[0;32mraise\u001b[0m \u001b[0merr\u001b[0m\u001b[0;34m\u001b[0m\u001b[0;34m\u001b[0m\u001b[0m\n\u001b[0m\u001b[1;32m    809\u001b[0m         \u001b[0;32mfinally\u001b[0m\u001b[0;34m:\u001b[0m\u001b[0;34m\u001b[0m\u001b[0;34m\u001b[0m\u001b[0m\n",
      "\u001b[0;32m~/miniconda3/envs/ds_env/lib/python3.8/socket.py\u001b[0m in \u001b[0;36mcreate_connection\u001b[0;34m(address, timeout, source_address)\u001b[0m\n\u001b[1;32m    795\u001b[0m                 \u001b[0msock\u001b[0m\u001b[0;34m.\u001b[0m\u001b[0mbind\u001b[0m\u001b[0;34m(\u001b[0m\u001b[0msource_address\u001b[0m\u001b[0;34m)\u001b[0m\u001b[0;34m\u001b[0m\u001b[0;34m\u001b[0m\u001b[0m\n\u001b[0;32m--> 796\u001b[0;31m             \u001b[0msock\u001b[0m\u001b[0;34m.\u001b[0m\u001b[0mconnect\u001b[0m\u001b[0;34m(\u001b[0m\u001b[0msa\u001b[0m\u001b[0;34m)\u001b[0m\u001b[0;34m\u001b[0m\u001b[0;34m\u001b[0m\u001b[0m\n\u001b[0m\u001b[1;32m    797\u001b[0m             \u001b[0;31m# Break explicitly a reference cycle\u001b[0m\u001b[0;34m\u001b[0m\u001b[0;34m\u001b[0m\u001b[0;34m\u001b[0m\u001b[0m\n",
      "\u001b[0;31mConnectionRefusedError\u001b[0m: [Errno 61] Connection refused",
      "\nDuring handling of the above exception, another exception occurred:\n",
      "\u001b[0;31mOperationalError\u001b[0m                          Traceback (most recent call last)",
      "\u001b[0;32m/var/folders/76/w4hjx50937lb151qm8l0xq_w0000gn/T/ipykernel_10966/1986639339.py\u001b[0m in \u001b[0;36m<module>\u001b[0;34m\u001b[0m\n\u001b[1;32m      9\u001b[0m \u001b[0mcusrorType\u001b[0m                  \u001b[0;34m=\u001b[0m \u001b[0mpymysql\u001b[0m\u001b[0;34m.\u001b[0m\u001b[0mcursors\u001b[0m\u001b[0;34m.\u001b[0m\u001b[0mDictCursor\u001b[0m\u001b[0;34m\u001b[0m\u001b[0;34m\u001b[0m\u001b[0m\n\u001b[1;32m     10\u001b[0m \u001b[0;34m\u001b[0m\u001b[0m\n\u001b[0;32m---> 11\u001b[0;31m connectionInstance   = pymysql.connect(host=databaseServerIP, user=databaseUserName, password=databaseUserPassword,\n\u001b[0m\u001b[1;32m     12\u001b[0m                                        charset=charSet,cursorclass=cusrorType)\n",
      "\u001b[0;32m~/miniconda3/envs/ds_env/lib/python3.8/site-packages/pymysql/connections.py\u001b[0m in \u001b[0;36m__init__\u001b[0;34m(self, user, password, host, database, unix_socket, port, charset, sql_mode, read_default_file, conv, use_unicode, client_flag, cursorclass, init_command, connect_timeout, read_default_group, autocommit, local_infile, max_allowed_packet, defer_connect, auth_plugin_map, read_timeout, write_timeout, bind_address, binary_prefix, program_name, server_public_key, ssl, ssl_ca, ssl_cert, ssl_disabled, ssl_key, ssl_verify_cert, ssl_verify_identity, compress, named_pipe, passwd, db)\u001b[0m\n\u001b[1;32m    351\u001b[0m             \u001b[0mself\u001b[0m\u001b[0;34m.\u001b[0m\u001b[0m_sock\u001b[0m \u001b[0;34m=\u001b[0m \u001b[0;32mNone\u001b[0m\u001b[0;34m\u001b[0m\u001b[0;34m\u001b[0m\u001b[0m\n\u001b[1;32m    352\u001b[0m         \u001b[0;32melse\u001b[0m\u001b[0;34m:\u001b[0m\u001b[0;34m\u001b[0m\u001b[0;34m\u001b[0m\u001b[0m\n\u001b[0;32m--> 353\u001b[0;31m             \u001b[0mself\u001b[0m\u001b[0;34m.\u001b[0m\u001b[0mconnect\u001b[0m\u001b[0;34m(\u001b[0m\u001b[0;34m)\u001b[0m\u001b[0;34m\u001b[0m\u001b[0;34m\u001b[0m\u001b[0m\n\u001b[0m\u001b[1;32m    354\u001b[0m \u001b[0;34m\u001b[0m\u001b[0m\n\u001b[1;32m    355\u001b[0m     \u001b[0;32mdef\u001b[0m \u001b[0m__enter__\u001b[0m\u001b[0;34m(\u001b[0m\u001b[0mself\u001b[0m\u001b[0;34m)\u001b[0m\u001b[0;34m:\u001b[0m\u001b[0;34m\u001b[0m\u001b[0;34m\u001b[0m\u001b[0m\n",
      "\u001b[0;32m~/miniconda3/envs/ds_env/lib/python3.8/site-packages/pymysql/connections.py\u001b[0m in \u001b[0;36mconnect\u001b[0;34m(self, sock)\u001b[0m\n\u001b[1;32m    662\u001b[0m                 \u001b[0;32mif\u001b[0m \u001b[0mDEBUG\u001b[0m\u001b[0;34m:\u001b[0m\u001b[0;34m\u001b[0m\u001b[0;34m\u001b[0m\u001b[0m\n\u001b[1;32m    663\u001b[0m                     \u001b[0mprint\u001b[0m\u001b[0;34m(\u001b[0m\u001b[0mexc\u001b[0m\u001b[0;34m.\u001b[0m\u001b[0mtraceback\u001b[0m\u001b[0;34m)\u001b[0m\u001b[0;34m\u001b[0m\u001b[0;34m\u001b[0m\u001b[0m\n\u001b[0;32m--> 664\u001b[0;31m                 \u001b[0;32mraise\u001b[0m \u001b[0mexc\u001b[0m\u001b[0;34m\u001b[0m\u001b[0;34m\u001b[0m\u001b[0m\n\u001b[0m\u001b[1;32m    665\u001b[0m \u001b[0;34m\u001b[0m\u001b[0m\n\u001b[1;32m    666\u001b[0m             \u001b[0;31m# If e is neither DatabaseError or IOError, It's a bug.\u001b[0m\u001b[0;34m\u001b[0m\u001b[0;34m\u001b[0m\u001b[0;34m\u001b[0m\u001b[0m\n",
      "\u001b[0;31mOperationalError\u001b[0m: (2003, \"Can't connect to MySQL server on '127.0.0.1' ([Errno 61] Connection refused)\")"
     ]
    }
   ],
   "source": [
    "# Create a connection object\n",
    "\n",
    "databaseServerIP            = \"127.0.0.1\"  # IP address of the MySQL database server\n",
    "databaseUserName            = \"root\"       # User name of the database server\n",
    "databaseUserPassword        = \"\"           # Password for the database user\n",
    "\n",
    "newDatabaseName             = \"NewDatabase\" # Name of the database that is to be created\n",
    "charSet                     = \"utf8mb4\"     # Character set\n",
    "cusrorType                  = pymysql.cursors.DictCursor\n",
    "\n",
    "connectionInstance   = pymysql.connect(host=databaseServerIP, user=databaseUserName, password=databaseUserPassword,\n",
    "                                       charset=charSet,cursorclass=cusrorType)"
   ]
  },
  {
   "cell_type": "code",
   "execution_count": null,
   "id": "68e75c72-abe7-46d8-8b1f-8d57c7e001d7",
   "metadata": {},
   "outputs": [],
   "source": [
    "try:\n",
    "    # Create a cursor object\n",
    "    cursorInstance = connectionInstance.cursor()                                    \n",
    "\n",
    "    # SQL Statement to create a database\n",
    "    sqlStatement = \"CREATE DATABASE \"+newDatabaseName  \n",
    "\n",
    "\n",
    "    # Execute the create database SQL statment through the cursor instance\n",
    "    cursorInstance.execute(sqlStatement)\n",
    "\n",
    "    # SQL query string\n",
    "    sqlQuery = \"SHOW DATABASES\"\n",
    " \n",
    "    # Execute the sqlQuery\n",
    "    cursorInstance.execute(sqlQuery)\n",
    "\n",
    "    #Fetch all the rows\n",
    "    databaseList = cursorInsatnce.fetchall()\n",
    "\n",
    "    for datatbase in databaseList:\n",
    "        print(datatbase)\n",
    "\n",
    "except Exception as e:\n",
    "    print(\"Exeception occured:{}\".format(e))\n",
    "\n",
    "finally:\n",
    "    connectionInstance.close()"
   ]
  }
 ],
 "metadata": {
  "kernelspec": {
   "display_name": "ds_env",
   "language": "python",
   "name": "ds_env"
  },
  "language_info": {
   "codemirror_mode": {
    "name": "ipython",
    "version": 3
   },
   "file_extension": ".py",
   "mimetype": "text/x-python",
   "name": "python",
   "nbconvert_exporter": "python",
   "pygments_lexer": "ipython3",
   "version": "3.8.12"
  }
 },
 "nbformat": 4,
 "nbformat_minor": 5
}
