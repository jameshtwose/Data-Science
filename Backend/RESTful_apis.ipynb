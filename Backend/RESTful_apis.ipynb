{
 "cells": [
  {
   "cell_type": "markdown",
   "metadata": {},
   "source": [
    "# Understanding RESTful APIs"
   ]
  },
  {
   "cell_type": "code",
   "execution_count": 1,
   "metadata": {},
   "outputs": [],
   "source": [
    "import requests\n",
    "import pandas as pd\n",
    "import matplotlib.pyplot as plt\n",
    "import seaborn as sns"
   ]
  },
  {
   "cell_type": "markdown",
   "metadata": {},
   "source": [
    "## GET"
   ]
  },
  {
   "cell_type": "code",
   "execution_count": 2,
   "metadata": {},
   "outputs": [
    {
     "data": {
      "text/plain": [
       "{'userId': 1, 'id': 1, 'title': 'delectus aut autem', 'completed': False}"
      ]
     },
     "execution_count": 2,
     "metadata": {},
     "output_type": "execute_result"
    }
   ],
   "source": [
    "api_url = \"https://jsonplaceholder.typicode.com/todos/1\"\n",
    "response = requests.get(api_url)\n",
    "response.json()"
   ]
  },
  {
   "cell_type": "code",
   "execution_count": 3,
   "metadata": {},
   "outputs": [
    {
     "data": {
      "text/html": [
       "<div>\n",
       "<style scoped>\n",
       "    .dataframe tbody tr th:only-of-type {\n",
       "        vertical-align: middle;\n",
       "    }\n",
       "\n",
       "    .dataframe tbody tr th {\n",
       "        vertical-align: top;\n",
       "    }\n",
       "\n",
       "    .dataframe thead th {\n",
       "        text-align: right;\n",
       "    }\n",
       "</style>\n",
       "<table border=\"1\" class=\"dataframe\">\n",
       "  <thead>\n",
       "    <tr style=\"text-align: right;\">\n",
       "      <th></th>\n",
       "      <th>userId</th>\n",
       "      <th>id</th>\n",
       "      <th>title</th>\n",
       "      <th>completed</th>\n",
       "    </tr>\n",
       "  </thead>\n",
       "  <tbody>\n",
       "    <tr>\n",
       "      <th>0</th>\n",
       "      <td>1</td>\n",
       "      <td>1</td>\n",
       "      <td>delectus aut autem</td>\n",
       "      <td>False</td>\n",
       "    </tr>\n",
       "  </tbody>\n",
       "</table>\n",
       "</div>"
      ],
      "text/plain": [
       "   userId  id               title  completed\n",
       "0       1   1  delectus aut autem      False"
      ]
     },
     "execution_count": 3,
     "metadata": {},
     "output_type": "execute_result"
    }
   ],
   "source": [
    "pd.DataFrame(response.json(), index=[0])"
   ]
  },
  {
   "cell_type": "markdown",
   "metadata": {},
   "source": [
    "## POST"
   ]
  },
  {
   "cell_type": "code",
   "execution_count": 4,
   "metadata": {},
   "outputs": [
    {
     "data": {
      "text/plain": [
       "{'userId': 1, 'title': 'Buy milk', 'completed': False, 'id': 201}"
      ]
     },
     "execution_count": 4,
     "metadata": {},
     "output_type": "execute_result"
    }
   ],
   "source": [
    "api_url = \"https://jsonplaceholder.typicode.com/todos\"\n",
    "todo = {\"userId\": 1, \"title\": \"Buy milk\", \"completed\": False}\n",
    "response = requests.post(api_url, json=todo)\n",
    "response.json()"
   ]
  },
  {
   "cell_type": "code",
   "execution_count": 5,
   "metadata": {},
   "outputs": [
    {
     "data": {
      "text/plain": [
       "201"
      ]
     },
     "execution_count": 5,
     "metadata": {},
     "output_type": "execute_result"
    }
   ],
   "source": [
    "response.status_code"
   ]
  },
  {
   "cell_type": "markdown",
   "metadata": {},
   "source": [
    "## PUT"
   ]
  },
  {
   "cell_type": "code",
   "execution_count": 6,
   "metadata": {},
   "outputs": [
    {
     "data": {
      "text/plain": [
       "{'userId': 1,\n",
       " 'id': 10,\n",
       " 'title': 'illo est ratione doloremque quia maiores aut',\n",
       " 'completed': True}"
      ]
     },
     "execution_count": 6,
     "metadata": {},
     "output_type": "execute_result"
    }
   ],
   "source": [
    "api_url = \"https://jsonplaceholder.typicode.com/todos/10\"\n",
    "response = requests.get(api_url)\n",
    "response.json()"
   ]
  },
  {
   "cell_type": "code",
   "execution_count": 7,
   "metadata": {},
   "outputs": [
    {
     "data": {
      "text/plain": [
       "{'userId': 1, 'title': 'Wash car', 'completed': True, 'id': 10}"
      ]
     },
     "execution_count": 7,
     "metadata": {},
     "output_type": "execute_result"
    }
   ],
   "source": [
    "todo = {\"userId\": 1, \"title\": \"Wash car\", \"completed\": True}\n",
    "response = requests.put(api_url, json=todo)\n",
    "response.json()"
   ]
  },
  {
   "cell_type": "code",
   "execution_count": 8,
   "metadata": {},
   "outputs": [
    {
     "data": {
      "text/plain": [
       "200"
      ]
     },
     "execution_count": 8,
     "metadata": {},
     "output_type": "execute_result"
    }
   ],
   "source": [
    "response.status_code"
   ]
  },
  {
   "cell_type": "markdown",
   "metadata": {},
   "source": [
    "## PATCH"
   ]
  },
  {
   "cell_type": "code",
   "execution_count": 9,
   "metadata": {},
   "outputs": [
    {
     "data": {
      "text/plain": [
       "{'userId': 1, 'id': 10, 'title': 'Mow lawn', 'completed': True}"
      ]
     },
     "execution_count": 9,
     "metadata": {},
     "output_type": "execute_result"
    }
   ],
   "source": [
    "api_url = \"https://jsonplaceholder.typicode.com/todos/10\"\n",
    "todo = {\"title\": \"Mow lawn\"}\n",
    "response = requests.patch(api_url, json=todo)\n",
    "response.json()"
   ]
  },
  {
   "cell_type": "code",
   "execution_count": 10,
   "metadata": {},
   "outputs": [
    {
     "data": {
      "text/plain": [
       "200"
      ]
     },
     "execution_count": 10,
     "metadata": {},
     "output_type": "execute_result"
    }
   ],
   "source": [
    "response.status_code"
   ]
  },
  {
   "cell_type": "markdown",
   "metadata": {},
   "source": [
    "## Extras"
   ]
  },
  {
   "cell_type": "code",
   "execution_count": 11,
   "metadata": {},
   "outputs": [],
   "source": [
    "users_list = [\"jameshtwose\", \"GLicitra\", \"deSagaz\", \n",
    "            \"heinonmatti\", \"henkenai\", \"almerlucke\",\n",
    "             \"natlachaman\", \"a-hoey\", \"gerriekevdw\",\n",
    "             \"WoltersEric\"]\n",
    "all_users_df = pd.DataFrame()\n",
    "for user in users_list:\n",
    "    api_url = f\"https://api.github.com/users/{user}\"\n",
    "    response = requests.get(api_url)\n",
    "    user_df = pd.DataFrame(response.json(), index=[0])\n",
    "    all_users_df = pd.concat([all_users_df, user_df])\n",
    "_ = all_users_df.reset_index(drop=True, inplace=True)    "
   ]
  },
  {
   "cell_type": "code",
   "execution_count": 12,
   "metadata": {},
   "outputs": [
    {
     "data": {
      "text/html": [
       "<div>\n",
       "<style scoped>\n",
       "    .dataframe tbody tr th:only-of-type {\n",
       "        vertical-align: middle;\n",
       "    }\n",
       "\n",
       "    .dataframe tbody tr th {\n",
       "        vertical-align: top;\n",
       "    }\n",
       "\n",
       "    .dataframe thead th {\n",
       "        text-align: right;\n",
       "    }\n",
       "</style>\n",
       "<table border=\"1\" class=\"dataframe\">\n",
       "  <thead>\n",
       "    <tr style=\"text-align: right;\">\n",
       "      <th></th>\n",
       "      <th>login</th>\n",
       "      <th>id</th>\n",
       "      <th>node_id</th>\n",
       "      <th>avatar_url</th>\n",
       "      <th>gravatar_id</th>\n",
       "      <th>url</th>\n",
       "      <th>html_url</th>\n",
       "      <th>followers_url</th>\n",
       "      <th>following_url</th>\n",
       "      <th>gists_url</th>\n",
       "      <th>...</th>\n",
       "      <th>email</th>\n",
       "      <th>hireable</th>\n",
       "      <th>bio</th>\n",
       "      <th>twitter_username</th>\n",
       "      <th>public_repos</th>\n",
       "      <th>public_gists</th>\n",
       "      <th>followers</th>\n",
       "      <th>following</th>\n",
       "      <th>created_at</th>\n",
       "      <th>updated_at</th>\n",
       "    </tr>\n",
       "  </thead>\n",
       "  <tbody>\n",
       "    <tr>\n",
       "      <th>0</th>\n",
       "      <td>jameshtwose</td>\n",
       "      <td>39407392</td>\n",
       "      <td>MDQ6VXNlcjM5NDA3Mzky</td>\n",
       "      <td>https://avatars.githubusercontent.com/u/394073...</td>\n",
       "      <td></td>\n",
       "      <td>https://api.github.com/users/jameshtwose</td>\n",
       "      <td>https://github.com/jameshtwose</td>\n",
       "      <td>https://api.github.com/users/jameshtwose/follo...</td>\n",
       "      <td>https://api.github.com/users/jameshtwose/follo...</td>\n",
       "      <td>https://api.github.com/users/jameshtwose/gists...</td>\n",
       "      <td>...</td>\n",
       "      <td>None</td>\n",
       "      <td>None</td>\n",
       "      <td>None</td>\n",
       "      <td>None</td>\n",
       "      <td>12</td>\n",
       "      <td>0</td>\n",
       "      <td>3</td>\n",
       "      <td>2</td>\n",
       "      <td>2018-05-18T11:57:15Z</td>\n",
       "      <td>2021-07-31T08:10:12Z</td>\n",
       "    </tr>\n",
       "    <tr>\n",
       "      <th>1</th>\n",
       "      <td>GLicitra</td>\n",
       "      <td>74935245</td>\n",
       "      <td>MDQ6VXNlcjc0OTM1MjQ1</td>\n",
       "      <td>https://avatars.githubusercontent.com/u/749352...</td>\n",
       "      <td></td>\n",
       "      <td>https://api.github.com/users/GLicitra</td>\n",
       "      <td>https://github.com/GLicitra</td>\n",
       "      <td>https://api.github.com/users/GLicitra/followers</td>\n",
       "      <td>https://api.github.com/users/GLicitra/followin...</td>\n",
       "      <td>https://api.github.com/users/GLicitra/gists{/g...</td>\n",
       "      <td>...</td>\n",
       "      <td>None</td>\n",
       "      <td>None</td>\n",
       "      <td>None</td>\n",
       "      <td>None</td>\n",
       "      <td>0</td>\n",
       "      <td>9</td>\n",
       "      <td>0</td>\n",
       "      <td>1</td>\n",
       "      <td>2020-11-23T21:43:04Z</td>\n",
       "      <td>2021-07-05T17:36:20Z</td>\n",
       "    </tr>\n",
       "  </tbody>\n",
       "</table>\n",
       "<p>2 rows × 32 columns</p>\n",
       "</div>"
      ],
      "text/plain": [
       "         login        id               node_id  \\\n",
       "0  jameshtwose  39407392  MDQ6VXNlcjM5NDA3Mzky   \n",
       "1     GLicitra  74935245  MDQ6VXNlcjc0OTM1MjQ1   \n",
       "\n",
       "                                          avatar_url gravatar_id  \\\n",
       "0  https://avatars.githubusercontent.com/u/394073...               \n",
       "1  https://avatars.githubusercontent.com/u/749352...               \n",
       "\n",
       "                                        url                        html_url  \\\n",
       "0  https://api.github.com/users/jameshtwose  https://github.com/jameshtwose   \n",
       "1     https://api.github.com/users/GLicitra     https://github.com/GLicitra   \n",
       "\n",
       "                                       followers_url  \\\n",
       "0  https://api.github.com/users/jameshtwose/follo...   \n",
       "1    https://api.github.com/users/GLicitra/followers   \n",
       "\n",
       "                                       following_url  \\\n",
       "0  https://api.github.com/users/jameshtwose/follo...   \n",
       "1  https://api.github.com/users/GLicitra/followin...   \n",
       "\n",
       "                                           gists_url  ... email hireable  \\\n",
       "0  https://api.github.com/users/jameshtwose/gists...  ...  None     None   \n",
       "1  https://api.github.com/users/GLicitra/gists{/g...  ...  None     None   \n",
       "\n",
       "    bio twitter_username public_repos public_gists followers  following  \\\n",
       "0  None             None           12            0         3          2   \n",
       "1  None             None            0            9         0          1   \n",
       "\n",
       "             created_at            updated_at  \n",
       "0  2018-05-18T11:57:15Z  2021-07-31T08:10:12Z  \n",
       "1  2020-11-23T21:43:04Z  2021-07-05T17:36:20Z  \n",
       "\n",
       "[2 rows x 32 columns]"
      ]
     },
     "execution_count": 12,
     "metadata": {},
     "output_type": "execute_result"
    }
   ],
   "source": [
    "all_users_df.head(2)"
   ]
  },
  {
   "cell_type": "code",
   "execution_count": 13,
   "metadata": {},
   "outputs": [],
   "source": [
    "all_users_df = all_users_df.assign(created_at = lambda d: pd.to_datetime(d[\"created_at\"]))"
   ]
  },
  {
   "cell_type": "code",
   "execution_count": 14,
   "metadata": {},
   "outputs": [
    {
     "name": "stdout",
     "output_type": "stream",
     "text": [
      "<class 'pandas.core.frame.DataFrame'>\n",
      "RangeIndex: 10 entries, 0 to 9\n",
      "Data columns (total 32 columns):\n",
      " #   Column               Non-Null Count  Dtype              \n",
      "---  ------               --------------  -----              \n",
      " 0   login                10 non-null     object             \n",
      " 1   id                   10 non-null     int64              \n",
      " 2   node_id              10 non-null     object             \n",
      " 3   avatar_url           10 non-null     object             \n",
      " 4   gravatar_id          10 non-null     object             \n",
      " 5   url                  10 non-null     object             \n",
      " 6   html_url             10 non-null     object             \n",
      " 7   followers_url        10 non-null     object             \n",
      " 8   following_url        10 non-null     object             \n",
      " 9   gists_url            10 non-null     object             \n",
      " 10  starred_url          10 non-null     object             \n",
      " 11  subscriptions_url    10 non-null     object             \n",
      " 12  organizations_url    10 non-null     object             \n",
      " 13  repos_url            10 non-null     object             \n",
      " 14  events_url           10 non-null     object             \n",
      " 15  received_events_url  10 non-null     object             \n",
      " 16  type                 10 non-null     object             \n",
      " 17  site_admin           10 non-null     bool               \n",
      " 18  name                 5 non-null      object             \n",
      " 19  company              1 non-null      object             \n",
      " 20  blog                 10 non-null     object             \n",
      " 21  location             2 non-null      object             \n",
      " 22  email                0 non-null      object             \n",
      " 23  hireable             0 non-null      object             \n",
      " 24  bio                  2 non-null      object             \n",
      " 25  twitter_username     0 non-null      object             \n",
      " 26  public_repos         10 non-null     int64              \n",
      " 27  public_gists         10 non-null     int64              \n",
      " 28  followers            10 non-null     int64              \n",
      " 29  following            10 non-null     int64              \n",
      " 30  created_at           10 non-null     datetime64[ns, UTC]\n",
      " 31  updated_at           10 non-null     object             \n",
      "dtypes: bool(1), datetime64[ns, UTC](1), int64(5), object(25)\n",
      "memory usage: 2.6+ KB\n"
     ]
    }
   ],
   "source": [
    "all_users_df.info()"
   ]
  },
  {
   "cell_type": "code",
   "execution_count": 15,
   "metadata": {},
   "outputs": [
    {
     "data": {
      "image/png": "[encoded data removed]",
      "text/plain": [
       "<Figure size 1080x288 with 1 Axes>"
      ]
     },
     "metadata": {
      "needs_background": "light"
     },
     "output_type": "display_data"
    }
   ],
   "source": [
    "_ = plt.figure(figsize=(15,4))\n",
    "_ = sns.barplot(data=all_users_df,\n",
    "               x=\"login\",\n",
    "               y=\"public_repos\")"
   ]
  },
  {
   "cell_type": "code",
   "execution_count": 16,
   "metadata": {},
   "outputs": [
    {
     "data": {
      "image/png": "[encoded data removed]",
      "text/plain": [
       "<Figure size 1080x288 with 1 Axes>"
      ]
     },
     "metadata": {
      "needs_background": "light"
     },
     "output_type": "display_data"
    }
   ],
   "source": [
    "_ = plt.figure(figsize=(15,4))\n",
    "_ = sns.barplot(data=all_users_df,\n",
    "               x=\"login\",\n",
    "               y=\"followers\")"
   ]
  },
  {
   "cell_type": "code",
   "execution_count": 17,
   "metadata": {},
   "outputs": [
    {
     "data": {
      "image/png": "[encoded data removed]",
      "text/plain": [
       "<Figure size 1080x288 with 1 Axes>"
      ]
     },
     "metadata": {
      "needs_background": "light"
     },
     "output_type": "display_data"
    }
   ],
   "source": [
    "_ = plt.figure(figsize=(15,4))\n",
    "_ = sns.barplot(data=all_users_df,\n",
    "               x=\"login\",\n",
    "               y=\"following\")"
   ]
  },
  {
   "cell_type": "code",
   "execution_count": 18,
   "metadata": {},
   "outputs": [
    {
     "data": {
      "image/png": "[encoded data removed]",
      "text/plain": [
       "<Figure size 1080x288 with 1 Axes>"
      ]
     },
     "metadata": {
      "needs_background": "light"
     },
     "output_type": "display_data"
    }
   ],
   "source": [
    "_ = plt.figure(figsize=(15,4))\n",
    "_ = sns.scatterplot(data=all_users_df,\n",
    "               x=\"login\",\n",
    "               y=\"created_at\")"
   ]
  },
  {
   "cell_type": "code",
   "execution_count": null,
   "metadata": {},
   "outputs": [],
   "source": []
  }
 ],
 "metadata": {
  "kernelspec": {
   "display_name": "ds_env",
   "language": "python",
   "name": "ds_env"
  },
  "language_info": {
   "codemirror_mode": {
    "name": "ipython",
    "version": 3
   },
   "file_extension": ".py",
   "mimetype": "text/x-python",
   "name": "python",
   "nbconvert_exporter": "python",
   "pygments_lexer": "ipython3",
   "version": "3.8.3"
  }
 },
 "nbformat": 4,
 "nbformat_minor": 4
}
